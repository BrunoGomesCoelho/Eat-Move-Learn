{
  "nbformat": 4,
  "nbformat_minor": 0,
  "metadata": {
    "colab": {
      "name": "geese-cmame",
      "provenance": [],
      "collapsed_sections": []
    },
    "kernelspec": {
      "display_name": "Python 3",
      "language": "python",
      "name": "python3"
    },
    "language_info": {
      "codemirror_mode": {
        "name": "ipython",
        "version": 3
      },
      "file_extension": ".py",
      "mimetype": "text/x-python",
      "name": "python",
      "nbconvert_exporter": "python",
      "pygments_lexer": "ipython3",
      "version": "3.8.3"
    },
    "latex_envs": {
      "LaTeX_envs_menu_present": true,
      "autoclose": false,
      "autocomplete": false,
      "bibliofile": "biblio.bib",
      "cite_by": "apalike",
      "current_citInitial": 1,
      "eqLabelWithNumbers": false,
      "eqNumInitial": 1,
      "hotkeys": {
        "equation": "Ctrl-E",
        "itemize": "Ctrl-I"
      },
      "labels_anchors": false,
      "latex_user_defs": false,
      "report_style_numbering": false,
      "user_envs_cfg": false
    },
    "toc": {
      "base_numbering": 1,
      "nav_menu": {},
      "number_sections": false,
      "sideBar": true,
      "skip_h1_title": false,
      "title_cell": "Table of Contents",
      "title_sidebar": "Contents",
      "toc_cell": false,
      "toc_position": {},
      "toc_section_display": true,
      "toc_window_display": false
    }
  },
  "cells": [
    {
      "cell_type": "markdown",
      "metadata": {
        "id": "nSv_begObGxW"
      },
      "source": [
        "# Getting started\n",
        "\n",
        "Install the requirements:"
      ]
    },
    {
      "cell_type": "code",
      "metadata": {
        "colab": {
          "base_uri": "https://localhost:8080/"
        },
        "id": "MaHYWVbubGxe",
        "outputId": "c69af260-ee63-4d1d-cdc5-175c7cd95de9"
      },
      "source": [
        "!python3 -m pip install kaggle_environments"
      ],
      "execution_count": null,
      "outputs": [
        {
          "output_type": "stream",
          "text": [
            "Collecting kaggle_environments\n",
            "\u001b[?25l  Downloading https://files.pythonhosted.org/packages/b9/88/d54f1ced9fa3c64bfc95c9838d23c3926258e82a15f57c4fbe84524e1624/kaggle_environments-1.7.11-py2.py3-none-any.whl (108kB)\n",
            "\u001b[K     |████████████████████████████████| 112kB 12.5MB/s \n",
            "\u001b[?25hCollecting jsonschema>=3.0.1\n",
            "\u001b[?25l  Downloading https://files.pythonhosted.org/packages/c5/8f/51e89ce52a085483359217bc72cdbf6e75ee595d5b1d4b5ade40c7e018b8/jsonschema-3.2.0-py2.py3-none-any.whl (56kB)\n",
            "\u001b[K     |████████████████████████████████| 61kB 4.4MB/s \n",
            "\u001b[?25hRequirement already satisfied: setuptools in /usr/local/lib/python3.7/dist-packages (from jsonschema>=3.0.1->kaggle_environments) (56.1.0)\n",
            "Requirement already satisfied: importlib-metadata; python_version < \"3.8\" in /usr/local/lib/python3.7/dist-packages (from jsonschema>=3.0.1->kaggle_environments) (4.0.1)\n",
            "Requirement already satisfied: six>=1.11.0 in /usr/local/lib/python3.7/dist-packages (from jsonschema>=3.0.1->kaggle_environments) (1.15.0)\n",
            "Requirement already satisfied: pyrsistent>=0.14.0 in /usr/local/lib/python3.7/dist-packages (from jsonschema>=3.0.1->kaggle_environments) (0.17.3)\n",
            "Requirement already satisfied: attrs>=17.4.0 in /usr/local/lib/python3.7/dist-packages (from jsonschema>=3.0.1->kaggle_environments) (21.2.0)\n",
            "Requirement already satisfied: typing-extensions>=3.6.4; python_version < \"3.8\" in /usr/local/lib/python3.7/dist-packages (from importlib-metadata; python_version < \"3.8\"->jsonschema>=3.0.1->kaggle_environments) (3.7.4.3)\n",
            "Requirement already satisfied: zipp>=0.5 in /usr/local/lib/python3.7/dist-packages (from importlib-metadata; python_version < \"3.8\"->jsonschema>=3.0.1->kaggle_environments) (3.4.1)\n",
            "\u001b[31mERROR: nbclient 0.5.3 has requirement jupyter-client>=6.1.5, but you'll have jupyter-client 5.3.5 which is incompatible.\u001b[0m\n",
            "Installing collected packages: jsonschema, kaggle-environments\n",
            "  Found existing installation: jsonschema 2.6.0\n",
            "    Uninstalling jsonschema-2.6.0:\n",
            "      Successfully uninstalled jsonschema-2.6.0\n",
            "Successfully installed jsonschema-3.2.0 kaggle-environments-1.7.11\n"
          ],
          "name": "stdout"
        }
      ]
    },
    {
      "cell_type": "code",
      "metadata": {
        "id": "b9t7ikLXbGxg",
        "colab": {
          "base_uri": "https://localhost:8080/"
        },
        "outputId": "a24e0751-ef31-469b-858b-07886b670b93"
      },
      "source": [
        "# this should now run\n",
        "import kaggle_environments"
      ],
      "execution_count": null,
      "outputs": [
        {
          "output_type": "stream",
          "text": [
            "Loading environment football failed: No module named 'gfootball'\n"
          ],
          "name": "stdout"
        }
      ]
    },
    {
      "cell_type": "code",
      "metadata": {
        "id": "V2vDQTugbGxi"
      },
      "source": [
        "from kaggle_environments.envs.hungry_geese.hungry_geese import Observation, Configuration, Action, row_col, GreedyAgent\n",
        "from kaggle_environments import evaluate, make, utils"
      ],
      "execution_count": null,
      "outputs": []
    },
    {
      "cell_type": "markdown",
      "metadata": {
        "id": "_cih2jnmbGxi"
      },
      "source": [
        "If any problems were encountered, [this](https://www.kaggle.com/antimatter543/running-games-locally-with-jupyter-notebook) post has some info on running Kaggle locally\n",
        "\n",
        "Useful information:\n",
        "\n",
        "```python\n",
        "# Setup a hungry_geese environment and run agent vs a random.\n",
        "# Set debug to False if you don't want the printed statements (or just remove the prints in the agent)\n",
        "env = make(\"hungry_geese\", debug=True) \n",
        "\n",
        "# each element in the list is a different opponent\n",
        "env.run([agent, agent,agent, agent])\n",
        "\n",
        "# visualize the environment\n",
        "env.render(mode=\"ipython\", width=500, height=450)\n",
        "```"
      ]
    },
    {
      "cell_type": "markdown",
      "metadata": {
        "id": "E1pbCYIUbGxj"
      },
      "source": [
        "Creates a simple random agent"
      ]
    },
    {
      "cell_type": "code",
      "metadata": {
        "colab": {
          "base_uri": "https://localhost:8080/",
          "height": 35
        },
        "id": "z3j_MLtsbGxj",
        "outputId": "328b437e-806c-40a7-d033-b5b4a8c9d39b"
      },
      "source": [
        "import numpy as np\n",
        "actions = np.array([\"EAST\", \"SOUTH\", \"NORTH\", \"WEST\"])\n",
        "\n",
        "def random_agent(obs, config):\n",
        "    return np.random.choice(actions)\n",
        "\n",
        "random_agent({}, {})"
      ],
      "execution_count": null,
      "outputs": [
        {
          "output_type": "execute_result",
          "data": {
            "application/vnd.google.colaboratory.intrinsic+json": {
              "type": "string"
            },
            "text/plain": [
              "'WEST'"
            ]
          },
          "metadata": {
            "tags": []
          },
          "execution_count": 4
        }
      ]
    },
    {
      "cell_type": "markdown",
      "metadata": {
        "id": "4Jkj-vyzbGxl"
      },
      "source": [
        "As we can see above, a random agent is quite bad, since it sometimes goes back onto itself, therefore losing; we can do slightly better:"
      ]
    },
    {
      "cell_type": "code",
      "metadata": {
        "id": "eOLCF1fjbGxl"
      },
      "source": [
        "from kaggle_environments.envs.hungry_geese.hungry_geese import Observation, Configuration, Action, row_col\n",
        "from kaggle_environments import evaluate, make, utils\n",
        "opp_actions = {'EAST': 'WEST', 'WEST': 'EAST', 'NORTH':'SOUTH', 'SOUTH':'NORTH'}\n",
        "\n",
        "# Creates a class for an agent so we can keep track of the last action\n",
        "class RandomAgent:\n",
        "    def __init__(self, configuration: Configuration):\n",
        "        self.configuration = configuration\n",
        "        self.last_action = None\n",
        "\n",
        "    def __call__(self, observation: Observation):\n",
        "        action = np.random.choice(actions) \n",
        "        while action == opp_actions.get(self.last_action, \"\"):\n",
        "            action = np.random.choice(actions)\n",
        "        self.last_action = action\n",
        "        return action\n",
        "\n",
        "cached_agents = {}\n",
        "def agent(obs, config):\n",
        "    index = obs[\"index\"]\n",
        "    if index not in cached_agents :\n",
        "        cached_agents[index] = RandomAgent(Configuration(config))\n",
        "    return cached_agents[index](Observation(obs))"
      ],
      "execution_count": null,
      "outputs": []
    },
    {
      "cell_type": "markdown",
      "metadata": {
        "id": "1u-pQnGzbGxm"
      },
      "source": [
        "This gives us much better results (at least we don't go backwards):"
      ]
    },
    {
      "cell_type": "markdown",
      "metadata": {
        "id": "brWLjzKVdZeJ"
      },
      "source": [
        "Let's try making a stupid neural network."
      ]
    },
    {
      "cell_type": "code",
      "metadata": {
        "colab": {
          "base_uri": "https://localhost:8080/"
        },
        "id": "hQdIw-qY_KuN",
        "outputId": "dc6b26b2-555f-4cd8-ee96-fa003b31b563"
      },
      "source": [
        "!python -m pip install ribs\n"
      ],
      "execution_count": null,
      "outputs": [
        {
          "output_type": "stream",
          "text": [
            "Collecting ribs\n",
            "\u001b[?25l  Downloading https://files.pythonhosted.org/packages/3b/8b/6f714725d03f67d90cf232596336b94f3bd5c9173d40b03442101e9ee5da/ribs-0.3.1-py3-none-any.whl (51kB)\n",
            "\r\u001b[K     |██████▍                         | 10kB 16.9MB/s eta 0:00:01\r\u001b[K     |████████████▉                   | 20kB 23.5MB/s eta 0:00:01\r\u001b[K     |███████████████████▎            | 30kB 28.3MB/s eta 0:00:01\r\u001b[K     |█████████████████████████▊      | 40kB 20.4MB/s eta 0:00:01\r\u001b[K     |████████████████████████████████| 51kB 3.5MB/s \n",
            "\u001b[?25hRequirement already satisfied: scikit-learn>=0.20 in /usr/local/lib/python3.7/dist-packages (from ribs) (0.22.2.post1)\n",
            "Requirement already satisfied: decorator>=4.0.0 in /usr/local/lib/python3.7/dist-packages (from ribs) (4.4.2)\n",
            "Requirement already satisfied: sortedcontainers>=2.0.0 in /usr/local/lib/python3.7/dist-packages (from ribs) (2.3.0)\n",
            "Requirement already satisfied: numpy>=1.17.0 in /usr/local/lib/python3.7/dist-packages (from ribs) (1.19.5)\n",
            "Requirement already satisfied: numba>=0.45.1 in /usr/local/lib/python3.7/dist-packages (from ribs) (0.51.2)\n",
            "Collecting threadpoolctl>=2.0.0\n",
            "  Downloading https://files.pythonhosted.org/packages/f7/12/ec3f2e203afa394a149911729357aa48affc59c20e2c1c8297a60f33f133/threadpoolctl-2.1.0-py3-none-any.whl\n",
            "Requirement already satisfied: scipy>=1.0.0 in /usr/local/lib/python3.7/dist-packages (from ribs) (1.4.1)\n",
            "Requirement already satisfied: toml>=0.10.0 in /usr/local/lib/python3.7/dist-packages (from ribs) (0.10.2)\n",
            "Requirement already satisfied: pandas>=1.0.0 in /usr/local/lib/python3.7/dist-packages (from ribs) (1.1.5)\n",
            "Requirement already satisfied: joblib>=0.11 in /usr/local/lib/python3.7/dist-packages (from scikit-learn>=0.20->ribs) (1.0.1)\n",
            "Requirement already satisfied: setuptools in /usr/local/lib/python3.7/dist-packages (from numba>=0.45.1->ribs) (56.1.0)\n",
            "Requirement already satisfied: llvmlite<0.35,>=0.34.0.dev0 in /usr/local/lib/python3.7/dist-packages (from numba>=0.45.1->ribs) (0.34.0)\n",
            "Requirement already satisfied: python-dateutil>=2.7.3 in /usr/local/lib/python3.7/dist-packages (from pandas>=1.0.0->ribs) (2.8.1)\n",
            "Requirement already satisfied: pytz>=2017.2 in /usr/local/lib/python3.7/dist-packages (from pandas>=1.0.0->ribs) (2018.9)\n",
            "Requirement already satisfied: six>=1.5 in /usr/local/lib/python3.7/dist-packages (from python-dateutil>=2.7.3->pandas>=1.0.0->ribs) (1.15.0)\n",
            "Installing collected packages: threadpoolctl, ribs\n",
            "Successfully installed ribs-0.3.1 threadpoolctl-2.1.0\n"
          ],
          "name": "stdout"
        }
      ]
    },
    {
      "cell_type": "code",
      "metadata": {
        "id": "K0dItzZxcreb"
      },
      "source": [
        "import torch\n",
        "from torch import nn\n",
        "from torch.nn.functional import relu\n",
        "from pdb import set_trace as T\n",
        "\n",
        "HEIGHT = 7\n",
        "WIDTH = 11\n",
        "# One hot encoding: empty, food, goose 1, 2, 3, 4 \n",
        "N_CHAN = 6\n",
        "\n",
        "def bin_from_list(pos_list):\n",
        "  ''' Get a binary array with 1's in positions given in pos_list, which are \n",
        "  positions in a 1D, left-to-right, top-to-bottom unraveling of the board.'''\n",
        "  idxs = np.array(pos_list)\n",
        "  idxs = idxs // WIDTH, idxs % WIDTH\n",
        "  bin_arr = np.zeros(shape=(HEIGHT, WIDTH), dtype=np.uint8)\n",
        "  bin_arr[idxs[0], idxs[1]] = 1\n",
        "  bin_arr = bin_arr.reshape((1, *bin_arr.shape))\n",
        "  return torch.Tensor(bin_arr)\n",
        "\n",
        "def obs_to_onehot(obs, config):\n",
        "  assert WIDTH == config['columns']\n",
        "  assert HEIGHT == config['rows']\n",
        "  obs_arr = torch.zeros(size=(N_CHAN, HEIGHT, WIDTH), dtype=torch.uint8)\n",
        "  # Place food on observation array\n",
        "  obs_arr[1] = bin_from_list(obs['food'])\n",
        "  # Now observe ourselves\n",
        "  geese_idxs = obs['geese']\n",
        "  self_idxs = geese_idxs.pop(obs['index'])\n",
        "  obs_arr[2] = bin_from_list(self_idxs)\n",
        "  i = 0\n",
        "  # Observe other geese\n",
        "  # TODO: what about when geese die? We should keep track of this, and have an\n",
        "  # empty array at the dead goose's index. Currently, we will just move this\n",
        "  # ampty array to the back\n",
        "  while len(geese_idxs) > 0:\n",
        "    obs[obs_arr[3+i]] = bin_from_list(geese_idxs.pop(0))\n",
        "    i += 1\n",
        "  obs_arr[0] = obs_arr[1:].sum(axis=0) == 0\n",
        "  return obs_arr\n",
        "\n",
        "\n",
        "def init_weights(m):\n",
        "    if type(m) == torch.nn.Linear:\n",
        "        torch.nn.init.xavier_uniform_(m.weight)\n",
        "        m.bias.data.fill_(0.01)\n",
        "\n",
        "    if type(m) == torch.nn.Conv2d:\n",
        "        torch.nn.init.orthogonal_(m.weight)\n",
        "\n",
        "class ConvNet(nn.Module):\n",
        "  def __init__(self):\n",
        "    super(ConvNet, self).__init__()\n",
        "    self.action_hist = []\n",
        "    self.c1 = nn.Conv2d(N_CHAN*2, 10, 3, stride=1, padding=(2, 0))\n",
        "    self.c2 = nn.Conv2d(10, 5, 3, stride=2)\n",
        "    self.c3 = nn.Conv2d(5, 10, 3, stride=1, padding=0)\n",
        "    with torch.no_grad():\n",
        "      n_flatten = self.c3(self.c2(self.c1(torch.zeros((1, N_CHAN*2, HEIGHT, WIDTH))))).view(-1).shape[0]\n",
        "    self.l1 = nn.Linear(n_flatten, 4)\n",
        "    self.flatten = nn.Flatten()\n",
        "    self.apply(init_weights)\n",
        "    self.layers = [self.c1, self.c2, self.c3, self.l1]\n",
        "    self.last_obs = None\n",
        "\n",
        "  def forward(self, obs, config):\n",
        "    obs = obs_to_onehot(obs, config)\n",
        "    if len(obs.shape) == 3:\n",
        "      # Hackishly add batch dimension if it appears to be missing\n",
        "      obs = obs.unsqueeze(0)\n",
        "    # Observe last 2 frames to detect direction of movement of geese\n",
        "    if self.last_obs is None:\n",
        "      self.last_obs = obs\n",
        "    x = torch.cat((obs, self.last_obs), axis=1) \n",
        "    self.last_obs = obs\n",
        "    x = x.float()\n",
        "    x = relu(self.c1(x))\n",
        "    x = relu(self.c2(x))\n",
        "    x = relu(self.c3(x))\n",
        "    x = self.flatten(x)\n",
        "    x = torch.tanh(self.l1(x))\n",
        "    x = torch.softmax(x, dim=1)\n",
        "   #action_id = x.detach().numpy()[0].argmax() #deterministic but we can do sampling\n",
        "    action_id = np.random.choice(range(len(actions)), 1, p=x.detach().numpy()[0])[0]\n",
        "    self.action_hist.append(action_id)\n",
        "    action_str = actions[action_id]\n",
        "    return action_str\n",
        "\n",
        "  def reset(self):\n",
        "    self.action_hist = []\n",
        "    self.last_obs = None\n",
        "\n",
        "cached_greedy_agents = {}\n",
        "\n",
        "def greedy_agent(obs, config):\n",
        "    index = obs[\"index\"]\n",
        "    if index not in cached_greedy_agents:\n",
        "        cached_greedy_agents[index] = GreedyAgent(Configuration(config))\n",
        "    return cached_greedy_agents[index](Observation(obs))\n",
        "\n"
      ],
      "execution_count": null,
      "outputs": []
    },
    {
      "cell_type": "markdown",
      "metadata": {
        "id": "Nz76htwi-X_q"
      },
      "source": [
        "The random neural network usually takes 1 action repeatedly. If we sample from its output distribution (rather than taking argmax), it is quite random. Let's try to evolve it to be better. We'll use pyribs for this, which uses covariance matrix adaptation to sample from a distribution of agents."
      ]
    },
    {
      "cell_type": "code",
      "metadata": {
        "colab": {
          "base_uri": "https://localhost:8080/",
          "height": 487
        },
        "id": "71f2AnJJBmOC",
        "outputId": "3d304554-91a9-4644-84b8-b9450c2fda0b"
      },
      "source": [
        "env = make(\"hungry_geese\", debug=True)\n",
        "\n",
        "conv_net = ConvNet()\n",
        "info = env.run([conv_net, greedy_agent])\n",
        "conv_reward = env.state[0]['reward']\n",
        "greedy_reward = env.state[1]['reward']\n",
        "env.render(mode=\"ipython\", width=500, height=450)"
      ],
      "execution_count": null,
      "outputs": [
        {
          "output_type": "stream",
          "text": [
            "Opposite action: (0, <Action.NORTH: 1>, <Action.SOUTH: 3>)\n"
          ],
          "name": "stdout"
        },
        {
          "output_type": "display_data",
          "data": {
            "text/html": [
              "<iframe srcdoc=\"<!--\n",
              "  Copyright 2020 Kaggle Inc\n",
              "\n",
              "  Licensed under the Apache License, Version 2.0 (the &quot;License&quot;);\n",
              "  you may not use this file except in compliance with the License.\n",
              "  You may obtain a copy of the License at\n",
              "\n",
              "      http://www.apache.org/licenses/LICENSE-2.0\n",
              "\n",
              "  Unless required by applicable law or agreed to in writing, software\n",
              "  distributed under the License is distributed on an &quot;AS IS&quot; BASIS,\n",
              "  WITHOUT WARRANTIES OR CONDITIONS OF ANY KIND, either express or implied.\n",
              "  See the License for the specific language governing permissions and\n",
              "  limitations under the License.\n",
              "-->\n",
              "<!DOCTYPE html>\n",
              "<html lang=&quot;en&quot;>\n",
              "  <head>\n",
              "    <title>Kaggle Simulation Player</title>\n",
              "    <meta name=&quot;viewport&quot; content=&quot;width=device-width,initial-scale=1&quot; />\n",
              "    <link\n",
              "      rel=&quot;stylesheet&quot;\n",
              "      href=&quot;https://cdnjs.cloudflare.com/ajax/libs/meyer-reset/2.0/reset.css&quot;\n",
              "      crossorigin=&quot;anonymous&quot;\n",
              "    />\n",
              "    <style type=&quot;text/css&quot;>\n",
              "      html,\n",
              "      body {\n",
              "        height: 100%;\n",
              "        font-family: sans-serif;\n",
              "        margin: 0px;\n",
              "      }\n",
              "      canvas {\n",
              "        /* image-rendering: -moz-crisp-edges;\n",
              "        image-rendering: -webkit-crisp-edges;\n",
              "        image-rendering: pixelated;\n",
              "        image-rendering: crisp-edges; */\n",
              "      }\n",
              "    </style>\n",
              "    <script src=&quot;https://unpkg.com/preact@10.0.1/dist/preact.umd.js&quot;></script>\n",
              "    <script src=&quot;https://unpkg.com/preact@10.0.1/hooks/dist/hooks.umd.js&quot;></script>\n",
              "    <script src=&quot;https://unpkg.com/htm@2.2.1/dist/htm.umd.js&quot;></script>\n",
              "    <script>\n",
              "      // Polyfill for Styled Components\n",
              "      window.React = {\n",
              "        ...preact,\n",
              "        createElement: preact.h,\n",
              "        PropTypes: { func: {} },\n",
              "      };\n",
              "    </script>\n",
              "    <script src=&quot;https://unpkg.com/styled-components@3.5.0-0/dist/styled-components.min.js&quot;></script>\n",
              "  </head>\n",
              "  <body>\n",
              "    <script>\n",
              "      \n",
              "window.kaggle = {\n",
              "  &quot;debug&quot;: true,\n",
              "  &quot;playing&quot;: true,\n",
              "  &quot;step&quot;: 0,\n",
              "  &quot;controls&quot;: true,\n",
              "  &quot;environment&quot;: {\n",
              "    &quot;id&quot;: &quot;545ff564-b4d2-11eb-9f9b-0242ac1c0002&quot;,\n",
              "    &quot;name&quot;: &quot;hungry_geese&quot;,\n",
              "    &quot;title&quot;: &quot;Hungry Geese&quot;,\n",
              "    &quot;description&quot;: &quot;Similar to the classic snake game with multiple players&quot;,\n",
              "    &quot;version&quot;: &quot;1.0.0&quot;,\n",
              "    &quot;configuration&quot;: {\n",
              "      &quot;episodeSteps&quot;: 200,\n",
              "      &quot;actTimeout&quot;: 1,\n",
              "      &quot;runTimeout&quot;: 1200,\n",
              "      &quot;columns&quot;: 11,\n",
              "      &quot;rows&quot;: 7,\n",
              "      &quot;hunger_rate&quot;: 40,\n",
              "      &quot;min_food&quot;: 2,\n",
              "      &quot;max_length&quot;: 99\n",
              "    },\n",
              "    &quot;specification&quot;: {\n",
              "      &quot;action&quot;: {\n",
              "        &quot;description&quot;: &quot;Direction to move the head of your players goose.&quot;,\n",
              "        &quot;type&quot;: &quot;string&quot;,\n",
              "        &quot;enum&quot;: [\n",
              "          &quot;NORTH&quot;,\n",
              "          &quot;EAST&quot;,\n",
              "          &quot;SOUTH&quot;,\n",
              "          &quot;WEST&quot;\n",
              "        ],\n",
              "        &quot;default&quot;: &quot;NORTH&quot;\n",
              "      },\n",
              "      &quot;agents&quot;: [\n",
              "        1,\n",
              "        2,\n",
              "        3,\n",
              "        4,\n",
              "        5,\n",
              "        6,\n",
              "        7,\n",
              "        8\n",
              "      ],\n",
              "      &quot;configuration&quot;: {\n",
              "        &quot;episodeSteps&quot;: {\n",
              "          &quot;description&quot;: &quot;Maximum number of steps in the episode.&quot;,\n",
              "          &quot;type&quot;: &quot;integer&quot;,\n",
              "          &quot;minimum&quot;: 1,\n",
              "          &quot;default&quot;: 200\n",
              "        },\n",
              "        &quot;actTimeout&quot;: {\n",
              "          &quot;description&quot;: &quot;Maximum runtime (seconds) to obtain an action from an agent.&quot;,\n",
              "          &quot;type&quot;: &quot;number&quot;,\n",
              "          &quot;minimum&quot;: 0,\n",
              "          &quot;default&quot;: 1\n",
              "        },\n",
              "        &quot;runTimeout&quot;: {\n",
              "          &quot;description&quot;: &quot;Maximum runtime (seconds) of an episode (not necessarily DONE).&quot;,\n",
              "          &quot;type&quot;: &quot;number&quot;,\n",
              "          &quot;minimum&quot;: 0,\n",
              "          &quot;default&quot;: 1200\n",
              "        },\n",
              "        &quot;columns&quot;: {\n",
              "          &quot;description&quot;: &quot;Horizontal number of cells on the board.&quot;,\n",
              "          &quot;type&quot;: &quot;integer&quot;,\n",
              "          &quot;default&quot;: 11,\n",
              "          &quot;minimum&quot;: 3\n",
              "        },\n",
              "        &quot;rows&quot;: {\n",
              "          &quot;description&quot;: &quot;Vertical number of cells on the board.&quot;,\n",
              "          &quot;type&quot;: &quot;integer&quot;,\n",
              "          &quot;default&quot;: 7,\n",
              "          &quot;minimum&quot;: 3\n",
              "        },\n",
              "        &quot;hunger_rate&quot;: {\n",
              "          &quot;description&quot;: &quot;The number of steps before the goose shrinks a cell.&quot;,\n",
              "          &quot;type&quot;: &quot;integer&quot;,\n",
              "          &quot;minimum&quot;: 1,\n",
              "          &quot;default&quot;: 40\n",
              "        },\n",
              "        &quot;min_food&quot;: {\n",
              "          &quot;description&quot;: &quot;The minimum amount of food present for all steps.&quot;,\n",
              "          &quot;type&quot;: &quot;integer&quot;,\n",
              "          &quot;default&quot;: 2,\n",
              "          &quot;minimum&quot;: 1\n",
              "        },\n",
              "        &quot;max_length&quot;: {\n",
              "          &quot;description&quot;: &quot;The max length any goose can be. Total reward = (max length + 1) * steps survived + goose length.&quot;,\n",
              "          &quot;type&quot;: &quot;integer&quot;,\n",
              "          &quot;default&quot;: 99\n",
              "        }\n",
              "      },\n",
              "      &quot;info&quot;: {},\n",
              "      &quot;observation&quot;: {\n",
              "        &quot;remainingOverageTime&quot;: {\n",
              "          &quot;description&quot;: &quot;Total remaining banked time (seconds) that can be used in excess of per-step actTimeouts -- agent is disqualified with TIMEOUT status when this drops below 0.&quot;,\n",
              "          &quot;shared&quot;: false,\n",
              "          &quot;type&quot;: &quot;number&quot;,\n",
              "          &quot;minimum&quot;: 0,\n",
              "          &quot;default&quot;: 60\n",
              "        },\n",
              "        &quot;step&quot;: {\n",
              "          &quot;description&quot;: &quot;Current step within the episode.&quot;,\n",
              "          &quot;type&quot;: &quot;integer&quot;,\n",
              "          &quot;shared&quot;: true,\n",
              "          &quot;minimum&quot;: 0,\n",
              "          &quot;default&quot;: 0\n",
              "        },\n",
              "        &quot;geese&quot;: {\n",
              "          &quot;description&quot;: &quot;List of geese in order by the agent index.&quot;,\n",
              "          &quot;type&quot;: &quot;array&quot;,\n",
              "          &quot;default&quot;: [],\n",
              "          &quot;shared&quot;: true\n",
              "        },\n",
              "        &quot;food&quot;: {\n",
              "          &quot;description&quot;: &quot;Positions on the board where food is present.&quot;,\n",
              "          &quot;type&quot;: &quot;array&quot;,\n",
              "          &quot;default&quot;: [],\n",
              "          &quot;shared&quot;: true\n",
              "        },\n",
              "        &quot;index&quot;: {\n",
              "          &quot;description&quot;: &quot;Index of the current agent's goose in the list of geese.&quot;,\n",
              "          &quot;type&quot;: &quot;integer&quot;,\n",
              "          &quot;minimum&quot;: 0,\n",
              "          &quot;defaults&quot;: [\n",
              "            0,\n",
              "            1,\n",
              "            2,\n",
              "            3,\n",
              "            4,\n",
              "            5,\n",
              "            6,\n",
              "            7\n",
              "          ]\n",
              "        }\n",
              "      },\n",
              "      &quot;reward&quot;: {\n",
              "        &quot;description&quot;: &quot;steps survived * (max goose length + 1) + current goose length.&quot;,\n",
              "        &quot;type&quot;: [\n",
              "          &quot;integer&quot;,\n",
              "          &quot;null&quot;\n",
              "        ],\n",
              "        &quot;default&quot;: 0,\n",
              "        &quot;minimum&quot;: 0\n",
              "      }\n",
              "    },\n",
              "    &quot;steps&quot;: [\n",
              "      [\n",
              "        {\n",
              "          &quot;action&quot;: &quot;NORTH&quot;,\n",
              "          &quot;reward&quot;: 0,\n",
              "          &quot;info&quot;: {},\n",
              "          &quot;observation&quot;: {\n",
              "            &quot;remainingOverageTime&quot;: 60,\n",
              "            &quot;step&quot;: 0,\n",
              "            &quot;geese&quot;: [\n",
              "              [\n",
              "                9\n",
              "              ],\n",
              "              [\n",
              "                68\n",
              "              ]\n",
              "            ],\n",
              "            &quot;food&quot;: [\n",
              "              58,\n",
              "              23\n",
              "            ],\n",
              "            &quot;index&quot;: 0\n",
              "          },\n",
              "          &quot;status&quot;: &quot;ACTIVE&quot;\n",
              "        },\n",
              "        {\n",
              "          &quot;action&quot;: &quot;NORTH&quot;,\n",
              "          &quot;reward&quot;: 0,\n",
              "          &quot;info&quot;: {},\n",
              "          &quot;observation&quot;: {\n",
              "            &quot;remainingOverageTime&quot;: 60,\n",
              "            &quot;index&quot;: 1\n",
              "          },\n",
              "          &quot;status&quot;: &quot;ACTIVE&quot;\n",
              "        }\n",
              "      ],\n",
              "      [\n",
              "        {\n",
              "          &quot;action&quot;: &quot;SOUTH&quot;,\n",
              "          &quot;reward&quot;: 201,\n",
              "          &quot;info&quot;: {},\n",
              "          &quot;observation&quot;: {\n",
              "            &quot;remainingOverageTime&quot;: 60,\n",
              "            &quot;step&quot;: 1,\n",
              "            &quot;geese&quot;: [\n",
              "              [\n",
              "                20\n",
              "              ],\n",
              "              [\n",
              "                57\n",
              "              ]\n",
              "            ],\n",
              "            &quot;food&quot;: [\n",
              "              58,\n",
              "              23\n",
              "            ],\n",
              "            &quot;index&quot;: 0\n",
              "          },\n",
              "          &quot;status&quot;: &quot;ACTIVE&quot;\n",
              "        },\n",
              "        {\n",
              "          &quot;action&quot;: &quot;NORTH&quot;,\n",
              "          &quot;reward&quot;: 201,\n",
              "          &quot;info&quot;: {},\n",
              "          &quot;observation&quot;: {\n",
              "            &quot;remainingOverageTime&quot;: 60,\n",
              "            &quot;index&quot;: 1\n",
              "          },\n",
              "          &quot;status&quot;: &quot;ACTIVE&quot;\n",
              "        }\n",
              "      ],\n",
              "      [\n",
              "        {\n",
              "          &quot;action&quot;: &quot;NORTH&quot;,\n",
              "          &quot;reward&quot;: 201,\n",
              "          &quot;info&quot;: {},\n",
              "          &quot;observation&quot;: {\n",
              "            &quot;remainingOverageTime&quot;: 60,\n",
              "            &quot;step&quot;: 2,\n",
              "            &quot;geese&quot;: [\n",
              "              [],\n",
              "              [\n",
              "                58,\n",
              "                57\n",
              "              ]\n",
              "            ],\n",
              "            &quot;food&quot;: [\n",
              "              23,\n",
              "              27\n",
              "            ],\n",
              "            &quot;index&quot;: 0\n",
              "          },\n",
              "          &quot;status&quot;: &quot;DONE&quot;\n",
              "        },\n",
              "        {\n",
              "          &quot;action&quot;: &quot;EAST&quot;,\n",
              "          &quot;reward&quot;: 302,\n",
              "          &quot;info&quot;: {},\n",
              "          &quot;observation&quot;: {\n",
              "            &quot;remainingOverageTime&quot;: 60,\n",
              "            &quot;index&quot;: 1\n",
              "          },\n",
              "          &quot;status&quot;: &quot;DONE&quot;\n",
              "        }\n",
              "      ]\n",
              "    ],\n",
              "    &quot;rewards&quot;: [\n",
              "      201,\n",
              "      302\n",
              "    ],\n",
              "    &quot;statuses&quot;: [\n",
              "      &quot;DONE&quot;,\n",
              "      &quot;DONE&quot;\n",
              "    ],\n",
              "    &quot;schema_version&quot;: 1,\n",
              "    &quot;info&quot;: {}\n",
              "  },\n",
              "  &quot;logs&quot;: [\n",
              "    [],\n",
              "    [],\n",
              "    [\n",
              "      {\n",
              "        &quot;duration&quot;: 0.066421,\n",
              "        &quot;stdout&quot;: &quot;&quot;,\n",
              "        &quot;stderr&quot;: &quot;&quot;\n",
              "      },\n",
              "      {\n",
              "        &quot;duration&quot;: 0.000126,\n",
              "        &quot;stdout&quot;: &quot;&quot;,\n",
              "        &quot;stderr&quot;: &quot;&quot;\n",
              "      }\n",
              "    ],\n",
              "    [\n",
              "      {\n",
              "        &quot;duration&quot;: 0.002945,\n",
              "        &quot;stdout&quot;: &quot;&quot;,\n",
              "        &quot;stderr&quot;: &quot;&quot;\n",
              "      },\n",
              "      {\n",
              "        &quot;duration&quot;: 8.6e-05,\n",
              "        &quot;stdout&quot;: &quot;&quot;,\n",
              "        &quot;stderr&quot;: &quot;&quot;\n",
              "      },\n",
              "      {\n",
              "        &quot;stdout&quot;: &quot;Opposite action: (0, <Action.NORTH: 1>, <Action.SOUTH: 3>)\\n&quot;,\n",
              "        &quot;stderr&quot;: &quot;&quot;\n",
              "      }\n",
              "    ]\n",
              "  ],\n",
              "  &quot;mode&quot;: &quot;ipython&quot;,\n",
              "  &quot;width&quot;: 500,\n",
              "  &quot;height&quot;: 450\n",
              "};\n",
              "\n",
              "\n",
              "window.kaggle.renderer = // Copyright 2020 Kaggle Inc\n",
              "//\n",
              "// Licensed under the Apache License, Version 2.0 (the &quot;License&quot;);\n",
              "// you may not use this file except in compliance with the License.\n",
              "// You may obtain a copy of the License at\n",
              "//\n",
              "//      http://www.apache.org/licenses/LICENSE-2.0\n",
              "//\n",
              "// Unless required by applicable law or agreed to in writing, software\n",
              "// distributed under the License is distributed on an &quot;AS IS&quot; BASIS,\n",
              "// WITHOUT WARRANTIES OR CONDITIONS OF ANY KIND, either express or implied.\n",
              "// See the License for the specific language governing permissions and\n",
              "// limitations under the License.\n",
              "\n",
              "function renderer({\n",
              "  act,\n",
              "  agents,\n",
              "  environment,\n",
              "  height = 400,\n",
              "  interactive,\n",
              "  isInteractive,\n",
              "  parent,\n",
              "  step,\n",
              "  update,\n",
              "  width = 400,\n",
              "}) {\n",
              "  // Configuration.\n",
              "  const { rows, columns } = environment.configuration;\n",
              "\n",
              "  const colors = {\n",
              "    orange: &quot;#FFB345&quot;,\n",
              "    red: &quot;#FF2615&quot;,\n",
              "    green: &quot;#1EFF71&quot;,\n",
              "    blue: &quot;#30DFFC&quot;,\n",
              "    purple: &quot;#FF48D8&quot;,\n",
              "    players: [\n",
              "      &quot;#FFFFFF&quot;,\n",
              "      &quot;#68DCFB&quot;,\n",
              "      &quot;#7BDF4F&quot;,\n",
              "      &quot;#EC7E79&quot;,\n",
              "      &quot;#AD59EA&quot;,\n",
              "      &quot;#F4AFF8&quot;,\n",
              "      &quot;#F0E524&quot;,\n",
              "      &quot;#90AAFF&quot;,\n",
              "    ],\n",
              "  };\n",
              "\n",
              "  // SVG Paths (based on 300x300 grid).\n",
              "  // Path2D variant of these are all cached. new Path2D(&quot;&quot;)\n",
              "  let paths = {\n",
              "    // Head with neck starting from S.\n",
              "    head: [\n",
              "      &quot;M179.6,72.2c-0.4-0.3-1.1-0.3-1.4,0.2c-0.3,0.4-0.3,1.1,0.2,1.4c25.2,19.4,9.5,44.8,2,56.9c-1.1,1.8-2.1,3.4-2.7,4.6  c-5.6,11.1-14.7,25.7-28.7,25c-7.2-0.4-12.8-5.6-17.9-10.2c-2.2-2-4.2-3.9-6.3-5.3l-1.5-1c-16.5-11.4-29.6-20.5-29.6-41.5  c0-16.5,8.3-31.7,22.1-40.7c1.5-0.9,3-2.2,4.7-3.6c3.8-3.1,8.1-6.6,11.5-6.3c1.3,0.1,2.4,0.8,3.4,2.1c0.3,0.4,1,0.5,1.4,0.1  c0.4-0.3,0.5-1,0.1-1.4c-1.4-1.7-3-2.6-4.8-2.8c-4.3-0.4-8.9,3.4-13,6.7c-1.6,1.3-3.1,2.6-4.5,3.4c-14.4,9.3-23,25.2-23,42.4  c0,22.1,13.5,31.4,30.5,43.2l1.5,1c1.7,1.2,3.5,2.7,5.3,4.4c0,0,0,0.1,0,0.1v149c0,0.6,0.4,1,1,1s1-0.4,1-1V152.7  c5,4.5,10.6,9.2,17.9,9.6c0.4,0,0.7,0,1.1,0c7.8,0,14-4.2,19-9.9V300c0,0.6,0.4,1,1,1s1-0.4,1-1V150c3.4-4.4,6.2-9.4,8.5-13.8  c0.6-1.1,1.5-2.6,2.6-4.4C189.9,119.1,206.3,92.8,179.6,72.2z&quot;,\n",
              "      &quot;M137.3,78c-2.7,0-5,2.2-5,5s2.2,5,5,5s5-2.2,5-5S140,78,137.3,78z&quot;,\n",
              "      &quot;M126.5,90c-0.2-4.4,2.8-7.2,2.9-7.2c6.4-6.4,9.6-12.3,9.5-17.3c0-3.3-1.6-5.2-2-5.6c-1-1.5-2.3-2.3-3.9-2.4   c-3.5-0.2-6.8,3.7-6.9,3.8c-0.4,0.4-0.3,1.1,0.1,1.4c0.4,0.4,1.1,0.3,1.4-0.1c0.8-0.9,3.2-3.2,5.3-3.1c0.9,0,1.7,0.6,2.4,1.6   l0.1,0.2c0.1,0.1,6.1,6.4-7.4,20.1c-0.2,0.1-3.7,3.4-3.5,8.8c0.2,4.8,3.5,9.7,9.8,14.3c0.2,0.1,0.4,0.2,0.6,0.2   c0.3,0,0.6-0.1,0.8-0.4c0.3-0.4,0.2-1.1-0.2-1.4C129.8,98.5,126.8,94.2,126.5,90z&quot;,\n",
              "    ],\n",
              "    headBeak: [\n",
              "      &quot;M178.5,49l-6.9-20.7c-0.3-5.6-0.9-11.6-1.7-17.9c0,0,0,0,0,0l-0.2-1.7c-0.1-0.8-0.7-7.9-4.5-8c0,0,0,0,0,0   c-2.7,0-4.8,5.3-5.6,8.4c-0.7,2.8-1.4,6.1-2.1,9.6c-1.5,7.3-3.2,15.6-5.5,19.5c-2.3,3.8-6.1,6.7-9.5,9.3c-4.3,3.2-8.3,6.3-8.3,10.7   c0,3.8,5.8,7,12.4,10.7c4.2,2.4,8.6,4.8,11.6,7.4c2.9,2.5,5.9,3.8,8.8,3.8c0.5,0,0.9,0,1.4-0.1c4.8-0.7,7.7-4.6,8.2-5.3   c0.8-0.8,5.5-5.8,5.5-9.5C182,58,178.6,49.3,178.5,49z M175,73.3c0,0-0.1,0.1-0.1,0.2c0,0-2.6,3.9-6.9,4.5   c-2.8,0.4-5.6-0.7-8.5-3.2c-3.2-2.8-7.7-5.3-12-7.7c-5.6-3.1-11.4-6.4-11.4-8.9c0-3.4,3.5-6,7.5-9.1c3.5-2.7,7.5-5.7,10-9.8   c2.5-4.2,4.2-12.3,5.7-20.1c0.7-3.5,1.4-6.7,2.1-9.5c1.2-4.5,3-6.9,3.7-6.9c0,0,0,0,0,0c1.4,0,2.3,3.7,2.5,6.1l1.8,19.4   c0,0.1,0,0.2,0,0.2l0.1,0.3c1.4,25.2-1.7,42.2-1.9,43.2c-0.1,0.2-0.1,0.4,0,0.5c0.1,0.5,0.5,0.8,1,0.8c0.1,0,0.1,0,0.2,0   c0.8-0.1,0.9-0.1,1.6-5.5c0.4-2.7,0.9-7.2,1.2-12.9c0.3-5.1,0.5-11.6,0.3-19.2l4.7,14.1c0,0.1,3.5,8.7,3.5,15.5   C180,67.8,176.4,71.9,175,73.3z&quot;,\n",
              "      &quot;M149.5,56.7c-1.5,0-2.7,1.2-2.7,2.7c0,1.5,1.2,2.7,2.7,2.7c1.5,0,2.7-1.2,2.7-2.7   C152.2,57.9,151,56.7,149.5,56.7z M149.5,60c-0.4,0-0.7-0.3-0.7-0.7c0-0.4,0.3-0.7,0.7-0.7c0.4,0,0.7,0.3,0.7,0.7   C150.2,59.7,149.9,60,149.5,60z&quot;,\n",
              "    ],\n",
              "    // Curve from N to E.\n",
              "    neckNE: [\n",
              "      &quot;M300,169H157c-14.3,0-26-11.7-26-26V0c0-0.6-0.4-1-1-1s-1,0.4-1,1v144c0,0.1,0,0.1,0,0.1c0.6,14.9,12.9,26.9,28,26.9h143c0.6,0,1-0.4,1-1S300.6,169,300,169z&quot;,\n",
              "      &quot;M190,131h110c0.6,0,1-0.4,1-1s-0.4-1-1-1H190c-10.5,0-19-8.5-19-19V0c0-0.6-0.4-1-1-1s-1,0.4-1,1v110C169,121.6,178.4,131,190,131z&quot;,\n",
              "    ],\n",
              "    // Straight from N to S.\n",
              "    neckNS: [\n",
              "      &quot;M130-1c-0.6,0-1,0.4-1,1v300c0,0.6,0.4,1,1,1s1-0.4,1-1V0C131-0.6,130.6-1,130-1z&quot;,\n",
              "      &quot;M170-1c-0.6,0-1,0.4-1,1v300c0,0.6,0.4,1,1,1s1-0.4,1-1V0C171-0.6,170.6-1,170-1z&quot;,\n",
              "    ],\n",
              "    body: [\n",
              "      &quot;M222.4,232c-3.9-15.3-17.9-27.9-28.9-35.7c-10.2-7.2-19.8-11.9-22.5-13.1V110c0-0.6-0.4-1-1-1s-1,0.4-1,1v73.3  c0,0,0,0,0,0.1c-0.1,0.3-0.1,0.6,0,0.8v8.8c0,0.6,0.4,1,1,1s1-0.4,1-1v-7.6c7.8,3.7,43.1,21.8,49.5,47.1c2.5,10,0.2,20-6.8,29.8  c-0.7,0.9-1.5,1.8-2.5,3.1l-1,1.2c-6.6,7.9-22.7,18.6-33.6,23.7c-17.1,7.9-37.1,9.7-56.3,5c-18.9-4.7-34.4-14.2-44.6-27.4  C65,254,60.3,236.4,62.1,216.8l0-0.5c0.3-2.9,1.2-11.8-6-16.1c-1.4-0.9-2.8-1.7-4.2-2.5c-7.4-4.3-13.7-8-13.4-10.4  c0.1-0.9,1.4-2.4,6.9-4.2c0,0,0.1,0,0.1,0c1.4,0.8,2.8,1.6,4.4,2.4c0.2,0.1,0.3,0.1,0.5,0.1c0.4,0,0.7-0.2,0.9-0.5  c0.3-0.5,0.1-1.1-0.4-1.4c-26.6-14.3-28.3-19.2-27.7-20.7c1.5-4.1,22.6-2.1,37.2,0.7c0.5,0.1,1.1-0.3,1.2-0.8  c0.1-0.5-0.3-1.1-0.8-1.2c-2.1-0.4-7.2-1.3-13-2.1c-0.4-0.6-0.8-1.3-1.2-1.9c-1.3-1.9-2.6-3.9-2.2-5.7c0.4-1.6,1.4-2.8,3-3.6  c9.2-5,36.7,0.6,81.8,16.6v9c0,0.6,0.4,1,1,1s1-0.4,1-1v-9.2c0-0.1,0.1-0.1,0.1-0.2c0.1-0.3,0.1-0.6-0.1-0.8v-54.3  c2,1,4.1,2,6.3,2.9c0.1,0,0.2,0.1,0.4,0.1c0.4,0,0.8-0.2,0.9-0.6c0.2-0.5-0.1-1.1-0.6-1.3c-6.5-2.5-12.1-6.1-16.3-8.6  c-1.8-1.1-3.4-2.1-4.6-2.7c-11.1-5.6-25.7-14.7-25-28.7c0.4-7.2,5.6-12.8,10.2-17.9c2-2.2,3.9-4.2,5.3-6.3l1-1.5  c11.4-16.5,20.5-29.6,41.5-29.6c16.5,0,31.7,8.3,40.7,22.1c0.9,1.5,2.2,3,3.6,4.7c3.1,3.8,6.6,8.1,6.3,11.5  c-0.1,1.3-0.8,2.4-2.1,3.4c-0.4,0.3-0.5,1-0.1,1.4c0.3,0.4,1,0.5,1.4,0.1c1.7-1.4,2.6-3,2.8-4.8c0.4-4.3-3.4-8.9-6.7-13  c-1.3-1.6-2.6-3.1-3.4-4.5c-9.3-14.4-25.2-23-42.4-23c-22.1,0-31.4,13.5-43.2,30.5l-1,1.5c-1.3,1.9-3.2,3.9-5.1,6.1  c-4.8,5.3-10.3,11.2-10.7,19.1c-0.8,15.2,14.5,24.7,26.1,30.5c1.1,0.6,2.6,1.5,4.4,2.6c2.4,1.5,5.2,3.2,8.4,4.9  c-0.1,0.1-0.1,0.3-0.1,0.5v53.8c-45.8-16.2-72.9-21.5-82.7-16.2c-2.1,1.1-3.5,2.8-4,4.9c-0.7,2.7,1,5.1,2.5,7.3  c0.1,0.2,0.2,0.3,0.3,0.5c-10.5-1.2-22.3-1.5-23.9,2.9c-0.9,2.6,0.6,7.4,22,19.5c-4.4,1.6-6.5,3.3-6.7,5.4  c-0.4,3.7,5.2,6.9,14.4,12.4c1.3,0.8,2.7,1.6,4.2,2.5c6.2,3.7,5.4,11.3,5.1,14.1l0,0.5c-3.6,39.7,19.3,70.6,59.7,80.6  c7.2,1.8,14.5,2.7,21.8,2.7c12.5,0,24.7-2.6,35.8-7.8c11.1-5.1,27.3-15.9,34.3-24.2l1-1.2c0.2-0.3,0.5-0.6,0.7-0.8  c0.1-0.1,0.3-0.2,0.4-0.3c0.5-0.7,1.1-1.4,1.6-2.1c0.2-0.2,0.3-0.4,0.5-0.7c0-0.1,0.1-0.1,0.1-0.2C222.8,252.5,225,242.2,222.4,232z&quot;,\n",
              "      &quot;M162.7,114.2c-0.4,0-0.8-0.3-0.9-0.7c-0.2-0.5,0.1-1.1,0.6-1.3c6-2,11.5-6.2,16.3-12.4c0.3-0.4,1-0.5,1.4-0.2  c0.4,0.3,0.5,1,0.2,1.4c-5,6.5-10.8,10.9-17.3,13C162.9,114.2,162.8,114.2,162.7,114.2z&quot;,\n",
              "      &quot;M174.5,58.8c0-2.7-2.2-5-5-5s-5,2.2-5,5s2.2,5,5,5S174.5,61.5,174.5,58.8z M166.5,58.8c0-1.6,1.3-3,3-3s3,1.3,3,3  s-1.3,3-3,3S166.5,60.4,166.5,58.8z&quot;,\n",
              "      &quot;M187,60.4c3.3,0,5.2-1.6,5.6-2c1.5-1,2.3-2.3,2.4-3.9c0.2-3.5-3.7-6.8-3.8-6.9c-0.4-0.4-1.1-0.3-1.4,0.1  c-0.4,0.4-0.3,1.1,0.1,1.4c0.9,0.8,3.2,3.2,3.1,5.3c0,0.9-0.6,1.7-1.6,2.4l-0.2,0.1c-0.1,0.1-6.4,6.1-20.1-7.4  c-0.1-0.2-3.4-3.7-8.8-3.5c-4.8,0.2-9.7,3.5-14.3,9.8c-0.3,0.4-0.2,1.1,0.2,1.4s1.1,0.2,1.4-0.2c4.3-5.7,8.6-8.7,12.8-9  c4.4-0.2,7.2,2.8,7.2,2.9c6.4,6.3,12.1,9.5,17.1,9.5C186.9,60.4,187,60.4,187,60.4z&quot;,\n",
              "    ],\n",
              "    bodyBeak: [\n",
              "      &quot;M187.3,103.5c-3.7,0-8.6-4.7-9.5-5.5c-0.7-0.5-4.6-3.4-5.3-8.2c-0.5-3.3,0.8-6.7,3.7-10.1  c2.7-3.1,5.1-7.4,7.4-11.6c3.7-6.7,6.9-12.4,10.7-12.4c4.4,0,7.4,4,10.7,8.3c2.5,3.4,5.4,7.2,9.3,9.5c3.9,2.3,12.2,4,19.5,5.5  c3.5,0.7,6.8,1.4,9.6,2.1c3.2,0.8,8.5,2.9,8.4,5.7c-0.1,3.8-7.2,4.4-8,4.5l-19.3,1.8l-21.1,7C203.2,100.1,194.5,103.5,187.3,103.5z   M194.3,57.6c-2.6,0-5.8,5.8-8.9,11.4c-2.4,4.3-4.9,8.8-7.7,12c-2.5,2.9-3.6,5.8-3.2,8.5c0.6,4.2,4.5,6.9,4.5,6.9  c0.1,0,0.1,0.1,0.2,0.1c1.4,1.4,5.6,5,8.1,5c6.8,0,15.4-3.4,15.5-3.5L224,91c0.1,0,0.1,0,0.2,0l19.4-1.8c2.5-0.2,6.1-1.1,6.1-2.5  c0-0.6-2.4-2.5-6.9-3.7c-2.7-0.7-6-1.4-9.5-2.1c-7.8-1.6-16-3.2-20.1-5.7c-4.2-2.5-7.2-6.5-9.8-10C200.4,61.1,197.7,57.6,194.3,57.6  z&quot;,\n",
              "      &quot;M210.4,93.5c-4.9,0-9.1-0.2-12.7-0.4c-5.8-0.3-10.2-0.8-12.9-1.2c-5.3-0.7-5.4-0.8-5.5-1.6   c-0.1-0.5,0.3-1,0.8-1.2c0.2,0,0.4,0,0.5,0c1.2,0.2,26.4,4.8,61.3,0.1c0.5-0.1,1.1,0.3,1.1,0.9s-0.3,1.1-0.9,1.1   C230.1,93,219.2,93.5,210.4,93.5z&quot;,\n",
              "      &quot;M193.1,73.7c-1.5,0-2.7-1.2-2.7-2.7c0-1.5,1.2-2.7,2.7-2.7c1.5,0,2.7,1.2,2.7,2.7   C195.8,72.5,194.6,73.7,193.1,73.7z M193.1,70.4c-0.4,0-0.7,0.3-0.7,0.7c0,0.4,0.3,0.7,0.7,0.7c0.4,0,0.7-0.3,0.7-0.7   C193.8,70.7,193.5,70.4,193.1,70.4z&quot;,\n",
              "    ],\n",
              "    bodyN: [\n",
              "      &quot;M215.9,262.5c6.9-10,9.1-20.3,6.5-30.6c-3.9-15.3-17.9-27.9-28.9-35.7c-10.2-7.2-19.8-11.9-22.5-13.1V0   c0-0.6-0.4-1-1-1s-1,0.4-1,1v183.3c0,0,0,0,0,0.1c-0.1,0.3-0.1,0.6,0,0.8v8.8c0,0.6,0.4,1,1,1s1-0.4,1-1v-7.6   c7.8,3.7,43.1,21.8,49.5,47.1c2.5,10,0.2,20-6.8,29.8c-0.7,0.9-1.5,1.8-2.5,3.1l-1,1.2c-6.6,7.9-22.7,18.6-33.6,23.7   c-17.1,7.9-37.1,9.7-56.3,5c-18.9-4.7-34.4-14.2-44.6-27.4C65,254,60.3,236.4,62.1,216.8l0-0.5c0.3-2.9,1.2-11.8-6-16.1   c-1.4-0.9-2.8-1.7-4.2-2.5c-7.4-4.3-13.7-8-13.4-10.4c0.1-0.9,1.4-2.4,6.9-4.2c0,0,0.1,0,0.1,0c1.4,0.8,2.8,1.6,4.4,2.4   c0.2,0.1,0.3,0.1,0.5,0.1c0.4,0,0.7-0.2,0.9-0.5c0.3-0.5,0.1-1.1-0.4-1.4c-26.6-14.3-28.3-19.2-27.7-20.7   c1.5-4.1,22.6-2.1,37.2,0.7c0.5,0.1,1.1-0.3,1.2-0.8c0.1-0.5-0.3-1.1-0.8-1.2c-2.1-0.4-7.2-1.3-13-2.1c-0.4-0.6-0.8-1.3-1.2-1.9   c-1.3-1.9-2.6-3.9-2.2-5.7c0.4-1.6,1.4-2.8,3-3.6c9.3-5,37.1,0.7,82.6,16.8c0.1,0,0.2,0.1,0.3,0.1c0.4,0,0.8-0.3,0.9-0.7   c0.1-0.3,0.1-0.6-0.1-0.8V0c0-0.6-0.4-1-1-1s-1,0.4-1,1v162.8c-45.8-16.2-72.9-21.5-82.7-16.2c-2.1,1.1-3.5,2.8-4,4.9   c-0.7,2.7,1,5.1,2.5,7.3c0.1,0.2,0.2,0.3,0.3,0.5c-10.5-1.2-22.3-1.5-23.9,2.9c-0.9,2.6,0.6,7.4,22,19.5c-4.4,1.6-6.5,3.3-6.7,5.4   c-0.4,3.7,5.2,6.9,14.4,12.4c1.3,0.8,2.7,1.6,4.2,2.5c6.2,3.7,5.4,11.3,5.1,14.1l0,0.5c-3.6,39.7,19.2,70.6,59.7,80.6   c7.2,1.8,14.5,2.7,21.8,2.7c12.5,0,24.7-2.6,35.8-7.8c11.1-5.1,27.3-15.9,34.3-24.2l1-1.2c0.2-0.3,0.5-0.6,0.7-0.8   c0.1-0.1,0.3-0.2,0.4-0.3c0.5-0.7,1.1-1.4,1.6-2.1c0.2-0.2,0.3-0.4,0.5-0.7C215.9,262.7,215.9,262.6,215.9,262.5z&quot;,\n",
              "    ],\n",
              "    bodyS: [\n",
              "      &quot;M268.2,80.4c0-38.9-31.6-70.5-70.5-70.5C159.9,10,129,42.3,129,82c0,0,0,0,0,0c0,0,0,0,0,0l0.3,80.9   c-46-16.3-73.1-21.6-83-16.3c-2.1,1.1-3.5,2.8-4,4.9c-0.7,2.7,1,5.1,2.5,7.3c0.1,0.2,0.2,0.3,0.3,0.5c-10.5-1.2-22.3-1.5-23.9,2.9   c-0.9,2.6,0.6,7.4,22,19.5c-4.4,1.6-6.5,3.3-6.7,5.4c-0.4,3.7,5.2,6.9,14.4,12.4c1.3,0.8,2.7,1.6,4.2,2.5   c6.2,3.7,5.4,11.3,5.1,14.1l0,0.5c-3.6,39.7,19.2,70.6,59.7,80.6c7.2,1.8,14.5,2.7,21.8,2.7c12.5,0,24.7-2.6,35.8-7.8   c11.1-5.1,27.3-15.9,34.3-24.2l1-1.2c0.2-0.3,0.5-0.6,0.7-0.8c0.1-0.1,0.3-0.2,0.4-0.3c0.5-0.7,1.1-1.4,1.6-2.1   c0.2-0.2,0.3-0.4,0.5-0.7c0-0.1,0.1-0.1,0.1-0.2c6.9-10,9.1-20.3,6.5-30.6c-3.9-15.3-17.9-27.9-28.9-35.7   c-3.9-2.8-7.8-5.2-11.2-7.2l67.4-61c0,0,0,0,0,0c0,0,0,0,0,0C261.7,115,268.2,98.1,268.2,80.4z M170.9,183.1v-30.6l54.2-47.7   c0,0,0,0,0,0c0,0,0,0,0,0c6-6,9.3-14,9.3-22.5c0-17.5-14.3-31.8-31.8-31.8c-18.1,0-33.4,13.8-33.7,30.2c0,0,0,0.1,0,0.1v103   c0,0,0,0,0,0v8.7c0,0.6,0.4,1,1,1s1-0.4,1-1v-7.1c7.5,3.6,43.2,21.7,49.6,47.1c2.5,10,0.2,20-6.8,29.8c-0.7,0.9-1.5,1.8-2.5,3.1   l-1,1.2c-6.6,7.9-22.7,18.6-33.6,23.7c-17.1,7.9-37.1,9.7-56.3,5c-18.9-4.7-34.4-14.2-44.6-27.4C65,254,60.3,236.4,62.1,216.8   l0-0.5c0.3-2.9,1.2-11.8-6-16.1c-1.4-0.9-2.8-1.7-4.2-2.5c-7.4-4.3-13.7-8-13.4-10.4c0.1-0.9,1.4-2.4,6.9-4.2c0,0,0.1,0,0.1,0   c1.4,0.8,2.8,1.6,4.4,2.4c0.2,0.1,0.3,0.1,0.5,0.1c0.4,0,0.7-0.2,0.9-0.5c0.3-0.5,0.1-1.1-0.4-1.4c-26.6-14.3-28.3-19.2-27.7-20.7   c1.5-4.1,22.6-2.1,37.2,0.7c0.5,0.1,1.1-0.3,1.2-0.8c0.1-0.5-0.3-1.1-0.8-1.2c-2.1-0.4-7.2-1.3-13-2.1c-0.4-0.6-0.8-1.3-1.2-1.9   c-1.3-1.9-2.6-3.9-2.2-5.7c0.4-1.6,1.4-2.8,3-3.6c9.2-5,36.8,0.6,82,16.7l0,8.9c0,0.6,0.4,1,1,1c0,0,0,0,0,0c0.6,0,1-0.5,1-1   L131,82c0-38.6,30-70,66.8-70c37.8,0,68.5,30.7,68.5,68.5c0,17.2-6.4,33.6-18,46.2l-67.8,61.4C175.8,185.4,172.2,183.7,170.9,183.1   z M223.7,103.3l-52.8,46.5V81.2c0-15.6,14.5-28.7,31.7-28.7c16.4,0,29.8,13.4,29.8,29.8C232.4,90.2,229.3,97.7,223.7,103.3z&quot;,\n",
              "    ],\n",
              "    bodyW: [\n",
              "      &quot;M215.9,262.5c6.8-9.9,9-20,6.6-30c-6.3-26.7-43.4-45.5-50.7-48.9c-0.1-0.1-0.3-0.1-0.4-0.1V166   c0-0.2,0-0.3-0.1-0.4c-0.2-20.2-16.7-36.5-36.9-36.6c0,0,0,0,0,0H0.4c-0.6,0-1,0.4-1,1s0.4,1,1,1h133.9c19.3,0,35,15.7,35,35   c0,0.2,0,0.3,0.1,0.4V192c0,0.6,0.4,1,1,1s1-0.4,1-1v-6.5c8,3.9,43.2,22,49.2,47.4c2.3,9.8,0,19.7-6.9,29.3   c-0.7,0.9-1.5,1.8-2.5,3.1l-1,1.2c-6.6,7.9-22.7,18.6-33.6,23.7c-17.1,7.9-37.1,9.7-56.3,5c-18.9-4.7-34.4-14.2-44.6-27.4   C65,254,60.3,236.4,62.1,216.8l0-0.5c0.3-2.9,1.2-11.8-6-16.1c-1.4-0.9-2.8-1.7-4.2-2.5c-7.4-4.3-13.7-8-13.5-10.4   c0.1-0.9,1.4-2.4,6.9-4.2c0,0,0.1,0,0.1,0c1.4,0.8,2.9,1.6,4.4,2.4c0.2,0.1,0.3,0.1,0.5,0.1c0.4,0,0.7-0.2,0.9-0.5   c0.3-0.5,0.1-1.1-0.4-1.4c-9.2-4.9-16.2-9.2-20.9-12.7h80.5c8,0,15.2,5,17.9,12.5c0.1,0.4,0.5,0.7,0.9,0.7c0.1,0,0.2,0,0.3-0.1   c0.5-0.2,0.8-0.8,0.6-1.3c-3-8.3-10.9-13.9-19.8-13.9H0.4c-0.6,0-1,0.4-1,1s0.4,1,1,1h26.3c3.6,3,9.2,6.6,16.6,10.8   c-4.4,1.6-6.5,3.3-6.7,5.4c-0.4,3.7,5.2,6.9,14.4,12.4c1.3,0.8,2.7,1.6,4.2,2.5c6.2,3.7,5.4,11.3,5.1,14.1l0,0.5   c-3.6,39.7,19.3,70.6,59.7,80.6c7.2,1.8,14.5,2.7,21.8,2.7c12.5,0,24.7-2.6,35.8-7.8c11.1-5.1,27.3-15.9,34.3-24.2l1-1.2   c0.3-0.3,0.5-0.6,0.7-0.8c0.1-0.1,0.3-0.2,0.4-0.3c0.5-0.7,1-1.4,1.5-2.1c0.2-0.2,0.4-0.5,0.5-0.7   C215.9,262.7,215.9,262.6,215.9,262.5z&quot;,\n",
              "    ],\n",
              "    bodyE: [\n",
              "      &quot;M300,169H190c-11.6,0-21,9.4-21,21v10c0,0.6,0.4,1,1,1s1-0.4,1-1v-10c0-1.5,0.2-3,0.5-4.4   c8.4,4,43.1,22.1,49.1,47.3c2.3,9.8,0,19.7-6.9,29.3c-0.7,0.8-1.4,1.8-2.5,3l-1,1.3c-6.6,7.9-22.7,18.6-33.6,23.7   c-17.1,7.9-37.1,9.7-56.3,5c-18.9-4.7-34.4-14.2-44.6-27.4C65,254,60.3,236.4,62.1,216.8l0-0.5c0.3-2.9,1.2-11.8-6-16.1   c-1.4-0.9-2.8-1.7-4.2-2.5c-7.4-4.3-13.7-8-13.4-10.4c0.1-0.9,1.4-2.4,6.9-4.2c0,0,0.1,0,0.1,0c1.4,0.8,2.8,1.6,4.4,2.4   c0.2,0.1,0.3,0.1,0.5,0.1c0.4,0,0.7-0.2,0.9-0.5c0.3-0.5,0.1-1.1-0.4-1.4c-26.6-14.3-28.3-19.2-27.7-20.7   c1.5-4.1,22.6-2.1,37.2,0.7c0.5,0.1,1.1-0.3,1.2-0.8c0.1-0.5-0.3-1.1-0.8-1.2c-2.1-0.4-7.2-1.3-13-2.1c-0.4-0.6-0.8-1.3-1.2-1.9   c-1.3-1.9-2.6-3.9-2.2-5.7c0.4-1.6,1.4-2.8,3-3.6c9.2-5,36.7,0.6,81.6,16.5c0,0,0,0,0,0c0,0.4,0,0.7,0,1.1c0,0.2,0.1,0.4,0.2,0.5   V180c0,0.6,0.4,1,1,1s1-0.4,1-1v-16c0-0.1,0-0.3-0.1-0.4c1.2-18.2,16.4-32.6,34.9-32.6c0,0,0.1,0,0.1,0c0,0,0.1,0,0.1,0h134   c0.6,0,1-0.4,1-1s-0.4-1-1-1H166c0,0-0.1,0-0.1,0c0,0-0.1,0-0.1,0c-19.3,0-35.2,14.9-36.9,33.8c-45.8-16.2-72.9-21.5-82.7-16.2   c-2.1,1.1-3.5,2.8-4,4.9c-0.7,2.7,1,5.1,2.5,7.3c0.1,0.2,0.2,0.3,0.3,0.5c-10.5-1.2-22.3-1.5-23.9,2.9c-0.9,2.6,0.6,7.4,22,19.5   c-4.4,1.6-6.5,3.3-6.7,5.4c-0.4,3.7,5.2,6.9,14.4,12.4c1.3,0.8,2.7,1.6,4.2,2.5c6.2,3.7,5.4,11.3,5.1,14.1l0,0.5   c-3.6,39.7,19.3,70.6,59.7,80.6c7.2,1.8,14.5,2.7,21.8,2.7c12.5,0,24.7-2.6,35.8-7.8c11.1-5.1,27.3-15.9,34.3-24.2l1-1.3   c0.2-0.3,0.5-0.5,0.7-0.8c0.1-0.1,0.3-0.2,0.4-0.3c0.5-0.7,1-1.4,1.5-2.1c0.2-0.2,0.4-0.5,0.5-0.7c0-0.1,0.1-0.1,0.1-0.2   c6.8-9.9,9-20,6.6-30c-6.3-26.4-42.5-45-50.4-48.8c2.6-7.4,9.6-12.7,17.9-12.7h110c0.6,0,1-0.4,1-1S300.6,169,300,169z&quot;,\n",
              "    ],\n",
              "    wing: [\n",
              "      &quot;M74.5,207.4c-3.4,5.7,1.3,16.3,14.4,32.3c22.5,27.6,40.6,34.5,53.1,34.5c8,0,13.7-2.9,16.7-4.9c0,0,0,0,0.1,0  c7.6-4.6,13-11.8,15.1-20.2c2.4-9.6,0.2-19.8-6-27.9c-0.3-0.4-1-0.5-1.4-0.2c-0.4,0.3-0.5,1-0.2,1.4c5.8,7.7,7.9,17.2,5.6,26.2  c-1.9,7.7-6.8,14.3-13.6,18.6c-0.1,0-0.1,0-0.2,0.1c-6.5,4.6-30.6,16.3-67.5-28.9c-15.4-18.8-16.2-26.7-14.2-30  c2.6-4.3,11.3-3.6,18.5-2.3c1,2.1,2.3,4.5,4,7.2c0.3,0.4,7.3,11,10.6,16.1l1.7,2.5c0.2,0.3,0.5,0.4,0.8,0.4c0.2,0,0.4-0.1,0.6-0.2  c0.5-0.3,0.6-0.9,0.3-1.4l-1.7-2.5c-3.1-4.7-10.4-15.6-10.6-16c-1.8-2.8-3.1-5.2-4-7.1c0-0.2-0.1-0.4-0.2-0.6  c-2.4-5.3-1.7-7.5-1-8.4c2.6-2.9,12.8,0.5,18.6,3.3c0,0,0.1,0,0.1,0c1,2.5,2.6,5.4,4.7,8.8c0.3,0.5,0.7,1.1,1.1,1.6  c0.2,0.3,0.5,0.4,0.8,0.4c0.2,0,0.4-0.1,0.5-0.2c0.5-0.3,0.6-0.9,0.3-1.4c-0.4-0.6-0.7-1.1-1-1.6c-7-11.1-6.3-14.8-5.2-16.1  c2.6-2.9,12.8,0.5,18.6,3.3c0.5,0.2,1.1,0,1.3-0.5c0.2-0.5,0-1.1-0.5-1.3c-1.7-0.8-16.5-7.8-21-2.8c-1.4,1.5-1.6,3.9-0.7,7.1  c-4.4-2-15.5-6.3-19.3-2c-1.6,1.8-1.6,4.8,0,9C83.5,202.2,77,203.3,74.5,207.4z&quot;,\n",
              "    ],\n",
              "    feet: [\n",
              "      &quot;M209.2,299.8h-63.5c-0.6,0-1-0.4-1-1s0.4-1,1-1h63.5c1.1,0,2-0.9,2-2c0-1.1-0.9-2-2-2h-35.5c-0.6,0-1-0.4-1-1   s0.4-1,1-1h35.5c2.2,0,4,1.8,4,4C213.3,298,211.5,299.8,209.2,299.8z&quot;,\n",
              "      &quot;M141.2,299.8h-40c-2.6,0-4.7-1.8-4.7-4c0-2.2,2.1-4,4.7-4h7.3c0.6,0,1,0.4,1,1s-0.4,1-1,1h-7.3   c-1.5,0-2.7,0.9-2.7,2s1.2,2,2.7,2h40c0.6,0,1,0.4,1,1S141.8,299.8,141.2,299.8z&quot;,\n",
              "    ],\n",
              "    pizzaCrust: [\n",
              "      &quot;M197.3,85.2h-94.7c-5.8,0-10.5,4.7-10.5,10.5V98c0,4.5,2.9,8.4,6.9,9.9c0,0,0,0,0,0.1l49.7,106.3  c0.2,0.4,0.5,0.6,0.9,0.6c0,0,0,0,0,0c0.4,0,0.7-0.2,0.9-0.6l50.5-106.3c0,0,0-0.1,0-0.1c3.9-1.5,6.7-5.3,6.7-9.8v-2.3  C207.8,90,203.1,85.2,197.3,85.2z M198.6,108.5l-48.9,102.9l-48.1-102.9h1.1h94.7H198.6z M205.8,98c0,4.7-3.8,8.5-8.5,8.5h-94.7  c-4.7,0-8.5-3.8-8.5-8.5v-2.3c0-4.7,3.8-8.5,8.5-8.5h94.7c4.7,0,8.5,3.8,8.5,8.5V98z&quot;,\n",
              "    ],\n",
              "    pizzaPepperoni: [\n",
              "      &quot;M122.9,131.1c-3.6,0-7,1.6-9.4,4.3c-0.4,0.4-0.3,1,0.1,1.4c0.4,0.4,1,0.3,1.4-0.1c2-2.3,4.8-3.6,7.9-3.6   c5.7,0,10.4,4.7,10.4,10.4s-4.7,10.4-10.4,10.4c-0.6,0-1,0.4-1,1s0.4,1,1,1c6.9,0,12.4-5.6,12.4-12.4S129.8,131.1,122.9,131.1z&quot;,\n",
              "      &quot;M175.6,138c-6.9,0-12.4,5.6-12.4,12.4c0,6.1,4.3,11.2,10.3,12.2c0.1,0,0.1,0,0.2,0c0.5,0,0.9-0.3,1-0.8   c0.1-0.5-0.3-1.1-0.8-1.2c-5-0.9-8.6-5.2-8.6-10.3c0-5.7,4.7-10.4,10.4-10.4c2.5,0,5,0.9,6.9,2.6c0.4,0.4,1,0.3,1.4-0.1   c0.4-0.4,0.3-1-0.1-1.4C181.6,139.1,178.7,138,175.6,138z&quot;,\n",
              "      &quot;M151.9,143.2c6.9,0,12.4-5.6,12.4-12.4c0-6.9-5.6-12.4-12.4-12.4s-12.4,5.6-12.4,12.4   C139.4,137.6,145,143.2,151.9,143.2z M151.9,120.4c5.7,0,10.4,4.7,10.4,10.4c0,5.7-4.7,10.4-10.4,10.4s-10.4-4.7-10.4-10.4   C141.4,125,146.1,120.4,151.9,120.4z&quot;,\n",
              "      &quot;M123.3,121c6.9,0,12.4-5.6,12.4-12.4c0-0.6-0.4-1-1-1s-1,0.4-1,1c0,5.7-4.7,10.4-10.4,10.4   s-10.4-4.7-10.4-10.4c0-0.6-0.4-1-1-1s-1,0.4-1,1C110.9,115.4,116.5,121,123.3,121z&quot;,\n",
              "      &quot;M188,107.5c-0.6,0-1,0.4-1,1c0,5.7-4.7,10.4-10.4,10.4s-10.4-4.7-10.4-10.4c0-0.6-0.4-1-1-1s-1,0.4-1,1   c0,6.9,5.6,12.4,12.4,12.4s12.4-5.6,12.4-12.4C189,108,188.6,107.5,188,107.5z&quot;,\n",
              "      &quot;M159.1,166.3c0-6.9-5.6-12.4-12.4-12.4s-12.4,5.6-12.4,12.4s5.6,12.4,12.4,12.4S159.1,173.2,159.1,166.3z    M136.2,166.3c0-5.7,4.7-10.4,10.4-10.4s10.4,4.7,10.4,10.4s-4.7,10.4-10.4,10.4S136.2,172.1,136.2,166.3z&quot;,\n",
              "      &quot;M163.3,181.6c-1.5-0.6-3.2-1-4.8-1c-6.9,0-12.4,5.6-12.4,12.4c0,5,3,9.5,7.6,11.4c0.1,0.1,0.3,0.1,0.4,0.1   c0.4,0,0.8-0.2,0.9-0.6c0.2-0.5,0-1.1-0.5-1.3c-3.9-1.6-6.4-5.4-6.4-9.6c0-5.7,4.7-10.4,10.4-10.4c1.4,0,2.8,0.3,4.1,0.8   c0.5,0.2,1.1,0,1.3-0.5C164,182.4,163.8,181.8,163.3,181.6z&quot;,\n",
              "    ],\n",
              "    chiliBody: [\n",
              "      &quot;M194.4,161.3c1-3.1,1.6-6.3,1.6-9.7c0-16.7-13.6-30.3-30.3-30.3c-9.2,0-17.7,4.1-23.5,11.2c0,0,0,0.1,0,0.1   c0,0,0,0,0,0c-0.2,0.4-24,40.3-54.8,35.3c0,0-0.1,0-0.1,0c0,0-0.1,0-0.1,0c-5.4,0-9.8,4.4-9.8,9.8c0,5.4,4.3,9.7,9.7,9.8   c0.9,0.2,18.1,3,38.3,3c3.1,0,6.3-0.1,9.5-0.2c25.3-1.2,43.4-7.5,53.2-18.3c0.2-0.1,0.3-0.1,0.4-0.3c2.7-3.1,4.7-6.6,6-10.4   C194.3,161.4,194.3,161.4,194.4,161.3C194.4,161.3,194.4,161.3,194.4,161.3z M87.2,185.6C87.1,185.6,87.1,185.6,87.2,185.6   c-0.1,0-0.1,0-0.2,0c-4.3,0-7.8-3.5-7.8-7.8c0-4.3,3.5-7.7,7.7-7.8c1.9,0.3,3.7,0.4,5.5,0.4c29,0,50.4-35.4,51.2-36.7   c5.4-6.6,13.4-10.4,21.9-10.4c15.6,0,28.3,12.7,28.3,28.3c0,3.1-0.5,6.2-1.5,9.1C177.8,200.9,88.1,185.7,87.2,185.6z&quot;,\n",
              "      &quot;M180.3,153.4c-0.5-0.3-1.1-0.1-1.4,0.4c-12.9,24.4-52.6,24.9-53,24.9c-0.6,0-1,0.5-1,1s0.4,1,1,1c0,0,0,0,0,0   c0.1,0,10.4-0.1,22.2-3.3c15.7-4.2,27-12.1,32.6-22.7C181,154.3,180.8,153.6,180.3,153.4z&quot;,\n",
              "      &quot;M108.8,179.3c-9.7,0-17-0.6-17.1-0.6c-0.6-0.1-1,0.4-1.1,0.9c0,0.6,0.4,1,0.9,1.1c0.1,0,7.5,0.6,17.2,0.6   c0,0,0,0,0,0c0.6,0,1-0.4,1-1C109.8,179.7,109.3,179.3,108.8,179.3z&quot;,\n",
              "      &quot;M119.4,179.2c-2,0.1-4,0.1-6,0.1c-0.6,0-1,0.5-1,1c0,0.5,0.5,1,1,1c0,0,0,0,0,0c2,0,4-0.1,6-0.1   c0.6,0,1-0.5,1-1C120.4,179.6,119.9,179.2,119.4,179.2z&quot;,\n",
              "    ],\n",
              "    chiliStem: [\n",
              "      &quot;M207.6,104.2c0.3-2.7-0.6-5.5-2.6-7.4c-1.7-1.6-3.9-2.4-6.1-2.3c-2.3,0.1-4.4,1-6,2.7  c-1.5,1.7-2.4,3.8-2.3,6.1c0,0,0,0,0,0c0,0,0,0,0,0c0,0,0,0.1,0,0.1c0,0,0,0.1,0,0.1c2.2,10.6-4.8,19.9-7.3,22.7  c-5.1-3.5-11.2-5.6-17.7-5.6c-3.6,0-7.1,0.6-10.4,1.8c-3.1,1.1-4.1,1.5-3.8,2.9c0.3,1.4,1.5,1.3,3.3,1.1c3.1-0.3,10.3-0.9,13.4,1.9  c1,0.9,1.5,2.1,1.5,3.7l0,1.7c0,4.6,0,6.9,1.6,8.5c1.5,1.5,3.9,1.6,8.4,1.6c0.4,0,0.8,0,1.3,0c8.1,0,11.3,7,12.6,12.9  c0.2,1.1,0.7,1.6,1.5,1.6c0.1,0,0.2,0,0.2,0c1.4-0.2,1.3-1.5,1.3-2.3c0-0.8-0.1-2.3-0.1-4.6c0-4.2-0.8-8.2-2.4-12  c-1-2.4-2.3-4.6-3.8-6.5C194.7,130.1,207.6,120.1,207.6,104.2z M193.2,148.1c-2.9-4.6-7.1-7.1-12.4-7.1c0,0,0,0,0,0  c-4,0-6.8,0-7.6-0.7c-0.7-0.7-0.7-2.9-0.7-6.4l0-1.7c0-2.4-0.8-4.4-2.4-5.9c-1.5-1.4-3.5-2.1-5.6-2.5c0.4,0,0.7,0,1.1,0  c8.4,0,16.1,3.7,21.3,9.9c0,0,0.1,0.1,0.1,0.1c1.7,2.1,3.2,4.4,4.3,7C192.2,143.2,192.9,145.6,193.2,148.1z M188.3,130.8  c-0.8-0.9-1.7-1.8-2.6-2.5c2.9-3.3,10.3-13.2,7.9-25c0-1.5,0.5-2.9,1.5-3.9c1-1.1,2.4-1.7,3.9-1.8c1.5-0.1,2.9,0.5,4,1.5  c1.4,1.3,2,3.1,1.7,4.9c0,0,0,0.1,0,0.1c0,0,0,0,0,0c0,0,0,0,0,0c0,0,0,0.1,0,0.1C204.5,118.9,192,128.3,188.3,130.8z&quot;,\n",
              "    ],\n",
              "    donutBody: [\n",
              "      &quot;M141.9,202.4c-10.3,0-20.8-2.2-30-8.3c-11.5-7.7-15.4-17.7-15.6-18.1c-0.2-0.5,0.1-1.1,0.6-1.3    c0.5-0.2,1.1,0.1,1.3,0.6c0,0.1,3.9,9.9,14.9,17.2c14.6,9.7,35.3,10.5,59.6,2.4c0.4-0.1,31.4-8.9,44.1-32.3    c6.2-11.5,7.1-24.7,2.5-39.2c-0.2-0.5,0.1-1.1,0.7-1.3c0.5-0.2,1.1,0.1,1.3,0.7c4.7,15,3.8,28.7-2.7,40.7    c-13.1,24.1-44.9,33.2-45.2,33.3C164.3,199.8,153.2,202.4,141.9,202.4z&quot;,\n",
              "      &quot;M133.6,145.3c-0.3,0-0.5-0.1-0.7-0.3c-0.4-0.4-0.4-1,0-1.4c3.8-3.6,9.1-6.8,15.1-9c9.1-3.3,18.4-3.8,24.2-1.2    c0.5,0.2,0.7,0.8,0.5,1.3c-0.2,0.5-0.8,0.7-1.3,0.5c-5.4-2.4-14.1-1.9-22.8,1.3c-5.7,2.1-10.9,5.1-14.4,8.6    C134.1,145.2,133.8,145.3,133.6,145.3z&quot;,\n",
              "    ],\n",
              "    donutGlaze: [\n",
              "      &quot;M130.9,190c-4.7,0-10.3-1.5-15.8-6.7l0,0c0,0-3.3-2.6-10.5-4.6c-1.2-0.2-19.6-4.4-17-29.8    c0-0.8,0.2-8.7,6.8-18.9c11.3-17.5,32.5-28,48.3-33.8c0.5-0.2,44.3-13.7,70.3,10.3c0.2,0.2,16.4,16.4,4.8,41.1    c-0.1,0.1-2,4.9-5.7,9.5c-5,6.2-10.7,8.9-16.7,8c-0.4-0.1-9.4-2-13.2,8.6c0,0.1-1,3.3-4.9,5.3c-4.3,2.2-10.2,2.1-17.5-0.3    c0,0-6.9-1.8-16.8,7.9c0,0-0.1,0.1-0.1,0.1C142.9,186.7,137.8,190,130.9,190z M171.1,94.3c-15.2,0-27.5,3.8-27.7,3.9    C90,117.6,89.6,148.7,89.6,149c0,0,0,0.1,0,0.1c-2.5,24.2,14.7,27.5,15.4,27.7c0,0,0.1,0,0.1,0c7.7,2.1,11.2,4.9,11.3,5    c11.9,11.3,24.1,4,25.3,3.3c10.8-10.5,18.4-8.4,18.8-8.3c6.7,2.2,12.3,2.4,16,0.5c3.1-1.6,4-4.1,4-4.2c4.4-12.4,15.3-9.9,15.4-9.9    c12.6,2,20-16.1,20.1-16.3c11-23.4-3.7-38.2-4.4-38.8C199.9,97.2,184.4,94.3,171.1,94.3z&quot;,\n",
              "      &quot;M142.3,146.8c-7.2,0-12.8-2.4-14.4-6.8c-2.6-7.3,6.2-16.9,20.1-22c6.5-2.4,13.1-3.3,18.6-2.7    c5.7,0.7,9.6,3,10.9,6.6l0,0c1.3,3.6-0.2,7.9-4.1,12.1c-3.8,4-9.5,7.5-16,9.9C152.1,145.9,146.8,146.8,142.3,146.8z M163.1,117.2    c-4.4,0-9.4,0.9-14.4,2.7c-12.4,4.5-21.1,13.4-18.9,19.4c2.2,6,14.5,7.3,27,2.7c6.2-2.3,11.6-5.6,15.2-9.4c3.4-3.6,4.7-7.2,3.7-10    c0,0,0,0,0,0c-1-2.8-4.3-4.7-9.3-5.3C165.3,117.2,164.2,117.2,163.1,117.2z&quot;,\n",
              "    ],\n",
              "    donutSprinkles: [\n",
              "      &quot;M119.2,139.2c-1.4,0-2.5-1.1-2.6-2.4l-0.6-11.7c-0.1-1.4,1-2.6,2.4-2.7c0.7,0,1.3,0.2,1.9,0.7    c0.5,0.5,0.8,1.1,0.9,1.8l0.6,11.7c0.1,1.4-1,2.6-2.4,2.7l0,0C119.3,139.2,119.2,139.2,119.2,139.2z M119.2,138.2L119.2,138.2    L119.2,138.2z M118.5,124.4C118.5,124.4,118.5,124.4,118.5,124.4c-0.2,0-0.3,0.1-0.4,0.2c-0.1,0.1-0.2,0.3-0.1,0.4l0.6,11.7    c0,0.3,0.3,0.5,0.6,0.5l0,0c0.3,0,0.6-0.3,0.5-0.6l-0.6-11.7c0-0.2-0.1-0.3-0.2-0.4C118.8,124.4,118.6,124.4,118.5,124.4z&quot;,\n",
              "      &quot;M126.9,165.6c-0.2,0-0.3,0-0.5,0c-0.7-0.1-1.3-0.5-1.6-1.1c0,0,0,0,0,0c-0.4-0.6-0.5-1.3-0.4-1.9    c0.1-0.7,0.5-1.3,1.1-1.6l9.6-6.6c1.2-0.8,2.8-0.5,3.6,0.7c0.8,1.2,0.5,2.8-0.7,3.6l-9.6,6.6C127.9,165.5,127.4,165.6,126.9,165.6    z M126.4,163.4c0.1,0.1,0.2,0.2,0.4,0.2c0.1,0,0.3,0,0.4-0.1l9.6-6.6c0.3-0.2,0.3-0.5,0.1-0.8c-0.2-0.3-0.5-0.3-0.8-0.1l-9.6,6.6    c-0.1,0.1-0.2,0.2-0.2,0.4C126.3,163.1,126.3,163.3,126.4,163.4z&quot;,\n",
              "      &quot;M191.4,138.4c-0.6,0-1.2-0.2-1.7-0.6c-0.5-0.4-0.8-1.1-0.9-1.8c0-0.7,0.2-1.4,0.6-1.9l7.6-8.8    c0.9-1.1,2.6-1.2,3.6-0.3c0.5,0.4,0.8,1.1,0.9,1.8s-0.2,1.4-0.6,1.9l-7.6,8.8c-0.4,0.5-1.1,0.8-1.8,0.9    C191.5,138.4,191.5,138.4,191.4,138.4z M199,126.4c-0.2,0-0.3,0.1-0.4,0.2l-7.6,8.8c-0.2,0.2-0.2,0.6,0.1,0.8c0,0,0,0,0,0    c0.1,0.1,0.3,0.1,0.4,0.1c0.2,0,0.3-0.1,0.4-0.2l7.6-8.8c0.1-0.1,0.1-0.3,0.1-0.4c0-0.2-0.1-0.3-0.2-0.4    C199.3,126.5,199.2,126.4,199,126.4z&quot;,\n",
              "      &quot;M165.2,162.5c-0.6,0-1.2-0.2-1.7-0.6c0,0,0,0,0,0c-1.1-0.9-1.2-2.6-0.3-3.6l7.6-8.8c0.4-0.5,1.1-0.8,1.8-0.9    c0.7-0.1,1.3,0.2,1.9,0.6c0.5,0.4,0.8,1.1,0.9,1.8s-0.2,1.4-0.6,1.9l-7.6,8.8C166.6,162.2,165.9,162.5,165.2,162.5z M164.8,160.3    c0.2,0.2,0.6,0.2,0.8-0.1l7.6-8.8c0.1-0.1,0.1-0.3,0.1-0.4c0-0.2-0.1-0.3-0.2-0.4c-0.1-0.1-0.3-0.1-0.4-0.1    c-0.2,0-0.3,0.1-0.4,0.2l-7.6,8.8C164.5,159.7,164.6,160.1,164.8,160.3L164.8,160.3z&quot;,\n",
              "      &quot;M178.4,114.2c-0.6,0-1.2-0.2-1.7-0.6c0,0,0,0,0,0c-1.1-0.9-1.2-2.6-0.3-3.6l7.6-8.8c0.9-1.1,2.6-1.2,3.6-0.3    c1.1,0.9,1.2,2.6,0.3,3.6l-7.6,8.8C179.9,113.9,179.2,114.2,178.4,114.2z M178.1,112.1c0.2,0.2,0.6,0.2,0.8-0.1l7.6-8.8    c0.2-0.2,0.2-0.6-0.1-0.8c-0.2-0.2-0.6-0.2-0.8,0.1l-7.6,8.8C177.8,111.5,177.8,111.9,178.1,112.1L178.1,112.1z&quot;,\n",
              "      &quot;M144.8,114.2c-0.6,0-1.2-0.2-1.7-0.6c-0.5-0.4-0.8-1.1-0.9-1.8c0-0.7,0.2-1.4,0.6-1.9l7.6-8.8    c0.9-1.1,2.6-1.2,3.6-0.3c1.1,0.9,1.2,2.6,0.3,3.6l-7.6,8.8C146.2,113.9,145.5,114.2,144.8,114.2z M152.4,102.2    c-0.2,0-0.3,0.1-0.4,0.2l-7.6,8.8c-0.2,0.2-0.2,0.6,0.1,0.8c0.2,0.2,0.6,0.2,0.8-0.1l7.6-8.8c0.2-0.2,0.2-0.6-0.1-0.8    C152.7,102.3,152.6,102.2,152.4,102.2z&quot;,\n",
              "    ],\n",
              "    cakeBase: [\n",
              "      &quot;M200.1,193.7c-0.1,0-0.2,0-0.3,0l-97.9-26c-0.4-0.1-0.7-0.5-0.7-1V123c0-0.6,0.4-1,1-1s1,0.4,1,1v43    l95.9,25.4v-37.6c0-0.6,0.4-1,1-1s1,0.4,1,1v38.9c0,0.3-0.1,0.6-0.4,0.8C200.5,193.7,200.3,193.7,200.1,193.7z&quot;,\n",
              "    ],\n",
              "    cakeLayers: [\n",
              "      &quot;M200.1,167.7c-0.1,0-0.2,0-0.3,0l-97.9-28.2c-0.5-0.2-0.8-0.7-0.7-1.2c0.2-0.5,0.7-0.8,1.2-0.7l97.9,28.2    c0.5,0.2,0.8,0.7,0.7,1.2C200.9,167.5,200.5,167.7,200.1,167.7z&quot;,\n",
              "      &quot;M200.1,179.9c-0.1,0-0.2,0-0.3,0l-97.9-28.2c-0.5-0.2-0.8-0.7-0.7-1.2c0.2-0.5,0.7-0.8,1.2-0.7l97.9,28.2    c0.5,0.2,0.8,0.7,0.7,1.2C200.9,179.6,200.5,179.9,200.1,179.9z&quot;,\n",
              "    ],\n",
              "    cakeFrosting: [\n",
              "      &quot;M200.9,153.3l-22-39.2c2.2-1.2,3.6-3.5,3.6-6.1c0-3.8-3.1-6.9-6.9-6.9c-2.9,0-5.4,1.8-6.4,4.4   c-1.3-1.2-3-2-4.9-2c-2.9,0-5.4,1.8-6.4,4.3c-1.3-1.4-3.1-2.4-5.2-2.4c-2.7,0-5.1,1.6-6.2,3.9c-1.3-1.8-3.3-2.9-5.6-2.9   c-2.9,0-5.4,1.8-6.4,4.4c-1.3-1.5-3.1-2.4-5.2-2.4c-2.7,0-5.1,1.6-6.2,3.9c-1.3-1.8-3.3-2.9-5.6-2.9c-2.9,0-5.4,1.8-6.4,4.3   c-1.3-1.4-3.1-2.3-5.2-2.3c-3.8,0-6.9,3.1-6.9,6.9c0,3.8,3.1,6.9,6.9,6.9c0,0,0.1,0,0.1,0l93.8,29.6c0.1,0,0.2,0,0.3,0   c0.3,0,0.6-0.1,0.8-0.4C201.1,154.1,201.2,153.7,200.9,153.3z M100.9,118.3c0-2.7,2.2-4.9,4.9-4.9c2.7,0,4.9,2.2,4.9,4.9   c0,0.6,0.4,1,1,1s1-0.4,1-1c0-0.7-0.1-1.3-0.3-1.9c0,0,0-0.1,0-0.1c0-2.7,2.2-4.9,4.9-4.9c2.7,0,4.9,2.2,4.9,4.9c0,0.6,0.4,1,1,1   s1-0.4,1-1c0-0.3,0-0.5,0-0.8c0-0.1,0-0.1,0-0.2c0-2.7,2.2-4.9,4.9-4.9c2.7,0,4.9,2.2,4.9,4.9c0,0.6,0.4,1,1,1s1-0.4,1-1   c0-0.6-0.1-1.2-0.2-1.8c0-0.1,0-0.1,0-0.2c0-2.7,2.2-4.9,4.9-4.9c2.7,0,4.9,2.2,4.9,4.9c0,0.6,0.4,1,1,1s1-0.4,1-1   c0-0.3,0-0.5,0-0.8c0-0.1,0-0.1,0-0.2c0-2.7,2.2-4.9,4.9-4.9c2.7,0,4.9,2.2,4.9,4.9c0,0.6,0.4,1,1,1s1-0.4,1-1   c0-0.7-0.1-1.3-0.3-1.9c0,0,0,0,0-0.1c0-2.7,2.2-4.9,4.9-4.9c2,0,3.6,1.2,4.4,2.8c0,0.1,0.1,0.2,0.2,0.3c0.2,0.6,0.3,1.1,0.3,1.8   c0,0.6,0.4,1,1,1s1-0.4,1-1c0-0.9-0.2-1.8-0.5-2.6c0.1-2.6,2.3-4.7,4.9-4.7c2.7,0,4.9,2.2,4.9,4.9c0,2.2-1.5,4.1-3.5,4.7   l-71.1,10.5c0,0,0,0-0.1,0c-0.1,0-0.1,0-0.2,0C103.1,123.2,100.9,121,100.9,118.3z M110.7,124.6l65-9.6c0,0,0,0,0,0   c0.5,0,0.9,0,1.4-0.1l20.9,37.3L110.7,124.6z&quot;,\n",
              "      &quot;M179.3,132.5c-6.4-4.1-11.6-1.9-13.7-0.6c-5.6-8.2-15.3-5-15.4-4.9c-0.5,0.2-0.8,0.8-0.6,1.3   c0.2,0.5,0.7,0.8,1.3,0.6c0.4-0.1,8.9-3,13.6,5c0.2,0.3,0.4,0.4,0.7,0.5c0.3,0,0.6,0,0.8-0.2c0,0,5.2-4.5,12.2,0.1   c0.2,0.1,0.4,0.2,0.5,0.2c0.3,0,0.6-0.2,0.8-0.5C179.9,133.4,179.8,132.8,179.3,132.5z&quot;,\n",
              "    ],\n",
              "    cakeCherry: [\n",
              "      &quot;M167.2,132.5c-4.6,0-8.3-3.7-8.3-8.3c0-4.6,3.7-8.3,8.3-8.3c1.1,0,2.2,0.2,3.2,0.7c3.1,1.3,5.1,4.3,5.1,7.6    C175.5,128.8,171.8,132.5,167.2,132.5z M167.2,117.9c-3.5,0-6.3,2.8-6.3,6.3c0,3.5,2.8,6.3,6.3,6.3c3.5,0,6.3-2.8,6.3-6.3    c0-2.5-1.5-4.8-3.8-5.8C168.9,118.1,168,117.9,167.2,117.9z&quot;,\n",
              "    ],\n",
              "  };\n",
              "\n",
              "  // Javascript does not correctly handle mod of negatives\n",
              "  const mod = (number, divisor) => ((number % divisor) + divisor) % divisor;\n",
              "\n",
              "  const getRowCol = (cell) => [Math.floor(cell / columns), mod(cell, columns)];\n",
              "\n",
              "  const diff = (row, column, nextRow, nextColumn, rows, columns) => {\n",
              "    const north = mod(row - 1, rows) === nextRow;\n",
              "    const south = mod(row + 1, rows) === nextRow;\n",
              "    const east = mod(column + 1, columns) === nextColumn;\n",
              "    const west = mod(column - 1, columns) === nextColumn;\n",
              "    return [north, south, east, west];\n",
              "  }\n",
              "\n",
              "  const { geese, food } = environment.steps[step][0].observation;\n",
              "\n",
              "  // Organize the geese positions for rendering.\n",
              "  const geesePositions = {};\n",
              "  geese.forEach((goose, gooseIndex) => {\n",
              "    const active = goose.length > 0;\n",
              "    let s = step;\n",
              "    if (!active) {\n",
              "      // Find the last step where the goose existed.\n",
              "      while (s > 0 && !goose.length) {\n",
              "        goose = environment.steps[--s][0].observation.geese[gooseIndex];\n",
              "      }\n",
              "    }\n",
              "    goose.forEach((position, segmentIndex) => {\n",
              "      if (!active && position in geesePositions) return;\n",
              "      const [row, column] = getRowCol(position);\n",
              "      const [previousRow, previousColumn] =\n",
              "          segmentIndex === 0\n",
              "              ? [row, column]\n",
              "              : getRowCol(goose[segmentIndex - 1]);\n",
              "      const [nextRow, nextColumn] =\n",
              "          segmentIndex === goose.length - 1\n",
              "              ? [row, column]\n",
              "              : getRowCol(goose[segmentIndex + 1]);\n",
              "      const [previousNorth, previousSouth, previousEast, previousWest] = diff(row, column, previousRow, previousColumn, rows, columns)\n",
              "      const [nextNorth, nextSouth, nextEast, nextWest] = diff(row, column, nextRow, nextColumn, rows, columns)\n",
              "      geesePositions[position] = {\n",
              "        index: gooseIndex,\n",
              "        head: segmentIndex === 0,\n",
              "        tail: segmentIndex === goose.length - 1,\n",
              "        east: previousEast || nextEast,\n",
              "        west: previousWest || nextWest,\n",
              "        south: previousSouth || nextSouth,\n",
              "        north: previousNorth || nextNorth,\n",
              "        active,\n",
              "      };\n",
              "    });\n",
              "  });\n",
              "\n",
              "  // Common Dimensions.\n",
              "  const unit = 8;\n",
              "  const minCanvasSize = Math.min(height, width);\n",
              "  const minOffset = minCanvasSize > 800 ? 50 : unit / 2;\n",
              "  const cellSize = Math.min(\n",
              "    (width - minOffset * 2) / columns,\n",
              "    (height - minOffset * 2) / rows\n",
              "  );\n",
              "  const cellInset = 0.9;\n",
              "  const cellOffset = (cellSize * (1 - cellInset)) / 2;\n",
              "  const xOffset = Math.max(0, (width - cellSize * columns) / 2);\n",
              "  const yOffset = Math.max(0, (height - cellSize * rows) / 2);\n",
              "\n",
              "  // Helper Functions.\n",
              "  const getCanvas = (id, options = {}) => {\n",
              "    let canvas = document.querySelector(`#${id}`);\n",
              "    if (!canvas) {\n",
              "      canvas = document.createElement(&quot;canvas&quot;);\n",
              "      canvas.id = id;\n",
              "      canvas.width = options.width || width;\n",
              "      canvas.height = options.height || height;\n",
              "      canvas.style.cssText = `\n",
              "          position: absolute;\n",
              "          top: 0;\n",
              "          left: 0;\n",
              "          width: 100%;\n",
              "          height: 100%; \n",
              "        `;\n",
              "      parent.appendChild(canvas);\n",
              "    }\n",
              "    return [canvas, canvas.getContext(&quot;2d&quot;)];\n",
              "  };\n",
              "\n",
              "  const drawImage = (canvas, ctx, sRow, sCol, dRow, dCol, angle = 0, flip) => {\n",
              "    const middle = cellSize / 2;\n",
              "    ctx.save();\n",
              "    ctx.translate(xOffset + cellSize * dCol, yOffset + cellSize * dRow);\n",
              "    if (angle) ctx.translate(middle, middle);\n",
              "    if (flip) ctx.scale(-1, 1);\n",
              "    if (angle) {\n",
              "      ctx.rotate((Math.PI * angle) / 180);\n",
              "      ctx.translate(-middle, -middle);\n",
              "    }\n",
              "    ctx.drawImage(\n",
              "      canvas,\n",
              "      sCol * cellSize,\n",
              "      sRow * cellSize,\n",
              "      cellSize,\n",
              "      cellSize,\n",
              "      0,\n",
              "      0,\n",
              "      cellSize,\n",
              "      cellSize\n",
              "    );\n",
              "    ctx.restore();\n",
              "  };\n",
              "\n",
              "  // First time setup\n",
              "  if (!parent.querySelector(&quot;#buffer&quot;)) {\n",
              "    if (interactive) {\n",
              "      const keyCodes = { 37: &quot;W&quot;, 38: &quot;N&quot;, 39: &quot;E&quot;, 40: &quot;S&quot; };\n",
              "      document.addEventListener(&quot;keydown&quot;, (evt) => {\n",
              "        if (\n",
              "          !isInteractive() ||\n",
              "          evt.ctrlKey ||\n",
              "          evt.shiftKey ||\n",
              "          evt.altKey ||\n",
              "          evt.metaKey\n",
              "        )\n",
              "          return;\n",
              "        if (evt.keyCode in keyCodes) {\n",
              "          act(keyCodes[evt.keyCode]);\n",
              "          evt.preventDefault();\n",
              "          return false;\n",
              "        }\n",
              "      });\n",
              "    }\n",
              "\n",
              "    const c = getCanvas(&quot;buffer&quot;, {\n",
              "      width: cellSize * (colors.players.length + 1),\n",
              "      height: cellSize * 8,\n",
              "    })[1];\n",
              "\n",
              "    const drawPath = (paths, col, row, color = &quot;#000&quot;) => {\n",
              "      c.save();\n",
              "      c.translate(col * cellSize + cellOffset, row * cellSize + cellOffset);\n",
              "      c.scale((cellSize * cellInset) / 300, (cellSize * cellInset) / 300);\n",
              "      c.strokeStyle = color;\n",
              "      c.shadowColor = color;\n",
              "      c.lineWidth = 2;\n",
              "      c.shadowBlur = 10;\n",
              "      paths.forEach((p) => c.stroke(new Path2D(p)));\n",
              "      c.restore();\n",
              "    };\n",
              "\n",
              "    // Draw player geese (1 player per column).\n",
              "    colors.players.forEach((color, index) => {\n",
              "      drawPath(paths.head, index, 0, color);\n",
              "      drawPath(paths.headBeak, index, 0, colors.orange);\n",
              "      drawPath(paths.neckNS, index, 1, color);\n",
              "      drawPath(paths.neckNE, index, 2, color);\n",
              "      drawPath(paths.body, index, 3, color);\n",
              "      drawPath(paths.bodyBeak, index, 3, colors.orange);\n",
              "      drawPath(paths.bodyS, index, 4, color);\n",
              "      drawPath(paths.bodyW, index, 5, color);\n",
              "      drawPath(paths.bodyE, index, 6, color);\n",
              "      drawPath(paths.bodyN, index, 7, color);\n",
              "    });\n",
              "\n",
              "    // Draw Food.\n",
              "    const foodCol = colors.players.length;\n",
              "    drawPath(paths.pizzaCrust, foodCol, 0, colors.orange);\n",
              "    drawPath(paths.pizzaPepperoni, foodCol, 0, colors.red);\n",
              "    drawPath(paths.cakeBase, foodCol, 1, colors.purple);\n",
              "    drawPath(paths.cakeLayers, foodCol, 1, colors.orange);\n",
              "    drawPath(paths.cakeFrosting, foodCol, 1, colors.blue);\n",
              "    drawPath(paths.cakeCherry, foodCol, 1, colors.red);\n",
              "    drawPath(paths.donutBody, foodCol, 2, colors.orange);\n",
              "    drawPath(paths.donutGlaze, foodCol, 2, colors.purple);\n",
              "    drawPath(paths.donutSprinkles, foodCol, 2, colors.blue);\n",
              "    drawPath(paths.chiliBody, foodCol, 3, colors.red);\n",
              "    drawPath(paths.chiliStem, foodCol, 3, colors.green);\n",
              "  }\n",
              "\n",
              "  // Canvas setup and reset.\n",
              "  const [bufferCanvas] = getCanvas(&quot;buffer&quot;);\n",
              "  const [canvas, c] = getCanvas(&quot;hungry_geese&quot;);\n",
              "  c.fillStyle = &quot;#000B2A&quot;;\n",
              "  c.fillRect(0, 0, canvas.width, canvas.height);\n",
              "\n",
              "  // Render the board.\n",
              "  for (let i = 0; i < rows * columns; i++) {\n",
              "    const [row, col] = getRowCol(i);\n",
              "\n",
              "    // Draw background tile.\n",
              "    c.save();\n",
              "    c.translate(xOffset + cellSize * col, yOffset + cellSize * row);\n",
              "    c.strokeStyle = &quot;#0361B2&quot;;\n",
              "    c.strokeRect(\n",
              "      cellOffset,\n",
              "      cellOffset,\n",
              "      cellSize - cellOffset * 2,\n",
              "      cellSize - cellOffset * 2\n",
              "    );\n",
              "    c.restore();\n",
              "\n",
              "    const drawPiece = (sRow, sCol, angle, flip) =>\n",
              "      drawImage(bufferCanvas, c, sRow, sCol, row, col, angle, flip);\n",
              "\n",
              "    // Draw Pieces.\n",
              "    if (i in geesePositions) {\n",
              "      const {\n",
              "        active,\n",
              "        index,\n",
              "        head,\n",
              "        tail,\n",
              "        north,\n",
              "        south,\n",
              "        west,\n",
              "        east,\n",
              "      } = geesePositions[i];\n",
              "\n",
              "      if (!active) c.globalAlpha = 0.15;\n",
              "      if (head && tail) {\n",
              "        // Full Goose.\n",
              "        drawPiece(3, index);\n",
              "      } else if (head) {\n",
              "        // Goose Head.\n",
              "        drawPiece(0, index, north ? 180 : east || west ? 90 : 0, east);\n",
              "      } else if (tail) {\n",
              "        // Goose Body.\n",
              "        drawPiece(north ? 7 : east ? 6 : west ? 5 : 4, index);\n",
              "      } else if ((north && south) || (west && east)) {\n",
              "        // Straight Neck.\n",
              "        drawPiece(1, index, east && west ? 90 : 0);\n",
              "      } else {\n",
              "        // Curved Neck.\n",
              "        drawPiece(\n",
              "          2,\n",
              "          index,\n",
              "          east && south ? 90 : west && south ? 180 : west && north ? 270 : 0\n",
              "        );\n",
              "      }\n",
              "      if (!active) c.globalAlpha = 1;\n",
              "\n",
              "      // Draw Food.\n",
              "    } else if (food.includes(i)) {\n",
              "      drawPiece(i % 4, colors.players.length);\n",
              "    }\n",
              "  }\n",
              "\n",
              "  // Upgrade the legend.\n",
              "  if (agents.length && (!agents[0].color || !agents[0].image)) {\n",
              "    agents.forEach((agent) => {\n",
              "      const [canvas, ctx] = getCanvas(`agent_${agent.index}`, {\n",
              "        width: 100,\n",
              "        height: 100,\n",
              "      });\n",
              "      ctx.drawImage(\n",
              "        bufferCanvas,\n",
              "        cellSize * agent.index,\n",
              "        cellSize * 3,\n",
              "        cellSize,\n",
              "        cellSize,\n",
              "        0,\n",
              "        0,\n",
              "        100,\n",
              "        100\n",
              "      );\n",
              "      agent.image = canvas.toDataURL();\n",
              "      parent.removeChild(canvas);\n",
              "      agent.color = colors.players[agent.index];\n",
              "    });\n",
              "    update({ agents });\n",
              "  }\n",
              "};\n",
              "\n",
              "\n",
              "    \n",
              "    </script>\n",
              "    <script>\n",
              "      const h = htm.bind(preact.h);\n",
              "      const { useContext, useEffect, useRef, useState } = preactHooks;\n",
              "      const styled = window.styled.default;\n",
              "\n",
              "      const Context = preact.createContext({});\n",
              "\n",
              "      const Loading = styled.div`\n",
              "        animation: rotate360 1.1s infinite linear;\n",
              "        border: 8px solid rgba(255, 255, 255, 0.2);\n",
              "        border-left-color: #0cb1ed;\n",
              "        border-radius: 50%;\n",
              "        height: 40px;\n",
              "        position: relative;\n",
              "        transform: translateZ(0);\n",
              "        width: 40px;\n",
              "\n",
              "        @keyframes rotate360 {\n",
              "          0% {\n",
              "            transform: rotate(0deg);\n",
              "          }\n",
              "          100% {\n",
              "            transform: rotate(360deg);\n",
              "          }\n",
              "        }\n",
              "      `;\n",
              "\n",
              "      const Logo = styled(\n",
              "        (props) => h`\n",
              "        <a href=&quot;https://kaggle.com&quot; target=&quot;_blank&quot; className=${props.className}>\n",
              "          <svg width=&quot;62px&quot; height=&quot;20px&quot; viewBox=&quot;0 0 62 24&quot; version=&quot;1.1&quot; xmlns=&quot;http://www.w3.org/2000/svg&quot;>\n",
              "            <g fill=&quot;#1EBEFF&quot; fill-rule=&quot;nonzero&quot;>\n",
              "              <path d=&quot;M10.2,17.8c0,0.1-0.1,0.1-0.2,0.1H7.7c-0.1,0-0.3-0.1-0.4-0.2l-3.8-4.9l-1.1,1v3.8 c0,0.2-0.1,0.3-0.3,0.3H0.3c-0.2,0-0.3-0.1-0.3-0.3V0.3C0.1,0.1,0.2,0,0.3,0h1.8c0.2,0,0.3,0.1,0.3,0.3V11L7,6.3 c0.1-0.1,0.2-0.2,0.4-0.2h2.4c0.1,0,0.2,0,0.2,0.1c0,0.1,0,0.2,0,0.2l-4.9,4.7l5.1,6.3C10.2,17.6,10.2,17.7,10.2,17.8z&quot;/>\n",
              "              <path d=&quot;M19.6,17.9h-1.8c-0.2,0-0.3-0.1-0.3-0.3v-0.4c-0.8,0.6-1.8,0.9-3,0.9c-1.1,0-2-0.3-2.8-1 c-0.8-0.7-1.2-1.6-1.2-2.7c0-1.7,1.1-2.9,3.2-3.5c0.8-0.2,2.1-0.5,3.8-0.6c0.1-0.6-0.1-1.2-0.5-1.7c-0.4-0.5-1-0.7-1.7-0.7 c-1,0-2,0.4-3,1C12.2,9.1,12.1,9.1,12,9l-0.9-1.3C11,7.5,11,7.4,11.1,7.3c1.3-0.9,2.7-1.4,4.2-1.4c1.1,0,2.1,0.3,2.8,0.8 c1.1,0.8,1.7,2,1.7,3.7v7.3C19.9,17.8,19.8,17.9,19.6,17.9z M17.5,12.4c-1.7,0.2-2.9,0.4-3.5,0.7c-0.9,0.4-1.2,0.9-1.1,1.6 c0.1,0.4,0.2,0.7,0.6,0.9c0.3,0.2,0.7,0.4,1.1,0.4c1.2,0.1,2.2-0.2,2.9-1V12.4z&quot;/>\n",
              "              <path d=&quot;M30.6,22.5c-0.9,1-2.3,1.5-4,1.5c-1,0-2-0.3-2.9-0.8c-0.2-0.1-0.4-0.3-0.7-0.5 c-0.3-0.2-0.6-0.5-0.9-0.7c-0.1-0.1-0.1-0.2,0-0.4l1.2-1.2c0.1-0.1,0.1-0.1,0.2-0.1c0.1,0,0.1,0,0.2,0.1c1,1,1.9,1.5,2.8,1.5 c2.1,0,3.2-1.1,3.2-3.3v-1.4c-0.8,0.7-1.9,1-3.3,1c-1.7,0-3-0.6-4-1.9c-0.8-1.1-1.3-2.5-1.3-4.2c0-1.6,0.4-3,1.2-4.1 c0.9-1.3,2.3-2,4-2c1.3,0,2.4,0.3,3.3,1V6.4c0-0.2,0.1-0.3,0.3-0.3h1.8c0.2,0,0.3,0.1,0.3,0.3v11.7C32,20,31.5,21.5,30.6,22.5z M29.7,9.9c-0.4-1.1-1.4-1.7-3-1.7c-2,0-3.1,1.3-3.1,3.8c0,1.4,0.3,2.4,1,3.1c0.5,0.5,1.2,0.8,2,0.8c1.6,0,2.7-0.6,3.1-1.7V9.9z&quot;/>\n",
              "              <path d=&quot;M42.9,22.5c-0.9,1-2.3,1.5-4,1.5c-1,0-2-0.3-2.9-0.8c-0.2-0.1-0.4-0.3-0.7-0.5 c-0.3-0.2-0.6-0.5-0.9-0.7c-0.1-0.1-0.1-0.2,0-0.4l1.2-1.2c0.1-0.1,0.1-0.1,0.2-0.1c0.1,0,0.1,0,0.2,0.1c1,1,1.9,1.5,2.8,1.5 c2.1,0,3.2-1.1,3.2-3.3v-1.4c-0.8,0.7-1.9,1-3.3,1c-1.7,0-3-0.6-4-1.9c-0.8-1.1-1.3-2.5-1.3-4.2c0-1.6,0.4-3,1.2-4.1 c0.9-1.3,2.3-2,4-2c1.3,0,2.4,0.3,3.3,1V6.4c0-0.2,0.1-0.3,0.3-0.3H44c0.2,0,0.3,0.1,0.3,0.3v11.7C44.3,20,43.8,21.5,42.9,22.5z M42,9.9c-0.4-1.1-1.4-1.7-3-1.7c-2,0-3.1,1.3-3.1,3.8c0,1.4,0.3,2.4,1,3.1c0.5,0.5,1.2,0.8,2,0.8c1.6,0,2.7-0.6,3.1-1.7L42,9.9 L42,9.9z&quot;/>\n",
              "              <path d=&quot;M48.3,17.9h-1.8c-0.2,0-0.3-0.1-0.3-0.3V0.3c0-0.2,0.1-0.3,0.3-0.3h1.8c0.2,0,0.3,0.1,0.3,0.3 v17.3C48.5,17.8,48.5,17.9,48.3,17.9z&quot;/>\n",
              "              <path d=&quot;M61.4,12.6c0,0.2-0.1,0.3-0.3,0.3h-8.5c0.1,0.9,0.5,1.6,1.1,2.2c0.7,0.6,1.6,0.9,2.7,0.9 c1,0,1.8-0.3,2.6-0.8c0.2-0.1,0.3-0.1,0.4,0l1.2,1.3c0.1,0.1,0.1,0.3,0,0.4c-1.3,0.9-2.7,1.4-4.4,1.4c-1.8,0-3.3-0.6-4.4-1.8 c-1.1-1.2-1.7-2.7-1.7-4.5c0-1.7,0.6-3.2,1.7-4.4c1-1.1,2.4-1.6,4.1-1.6c1.6,0,2.9,0.6,4,1.7c1.1,1.2,1.6,2.6,1.5,4.4L61.4,12.6 z M58,8.7c-0.6-0.5-1.3-0.8-2.1-0.8c-0.8,0-1.5,0.3-2.1,0.8c-0.6,0.5-1,1.2-1.1,2H59C59,9.9,58.6,9.3,58,8.7z&quot;/>\n",
              "            </g>\n",
              "          </svg>\n",
              "        </a>\n",
              "      `\n",
              "      )`\n",
              "        display: inline-flex;\n",
              "      `;\n",
              "\n",
              "      const Header = styled((props) => {\n",
              "        const { environment } = useContext(Context);\n",
              "\n",
              "        return h`<div className=${props.className} >\n",
              "          <${Logo} />\n",
              "          <span><b>Left / Right Arrow:</b> Increase / Decrease Step</span><span><b>0-9 Row Keys:</b> Playback Speed</span><span><b>Space:</b> Pause / Play</span>\n",
              "          ${environment.title}\n",
              "        </div>`;\n",
              "      })`\n",
              "        align-items: center;\n",
              "        border-bottom: 4px solid #212121;\n",
              "        box-sizing: border-box;\n",
              "        color: #fff;\n",
              "        display: flex;\n",
              "        flex: 0 0 36px;\n",
              "        font-size: 14px;\n",
              "        justify-content: space-between;\n",
              "        padding: 0 8px;\n",
              "        width: 100%;\n",
              "      `;\n",
              "\n",
              "      const Renderer = styled((props) => {\n",
              "        const context = useContext(Context);\n",
              "        const { animate, debug, playing, renderer, speed } = context;\n",
              "        const ref = preact.createRef();\n",
              "\n",
              "        useEffect(async () => {\n",
              "          if (!ref.current) return;\n",
              "\n",
              "          const renderFrame = async (start, step, lastFrame) => {\n",
              "            if (step !== context.step) return;\n",
              "            if (lastFrame === 1) {\n",
              "              if (!animate) return;\n",
              "              start = Date.now();\n",
              "            }\n",
              "            const frame =\n",
              "              playing || animate\n",
              "                ? Math.min((Date.now() - start) / speed, 1)\n",
              "                : 1;\n",
              "            try {\n",
              "              if (debug) console.time(&quot;render&quot;);\n",
              "              await renderer({\n",
              "                ...context,\n",
              "                frame,\n",
              "                height: ref.current.clientHeight,\n",
              "                hooks: preactHooks,\n",
              "                parent: ref.current,\n",
              "                preact,\n",
              "                styled,\n",
              "                width: ref.current.clientWidth,\n",
              "              });\n",
              "            } catch (error) {\n",
              "              if (debug) console.error(error);\n",
              "              console.log({ ...context, frame, error });\n",
              "            } finally {\n",
              "              if (debug) console.timeEnd(&quot;render&quot;);\n",
              "            }\n",
              "            window.requestAnimationFrame(() => renderFrame(start, step, frame));\n",
              "          };\n",
              "\n",
              "          await renderFrame(Date.now(), context.step);\n",
              "        }, [ref.current, context.step, context.renderer]);\n",
              "\n",
              "        return h`<div className=${props.className} ref=${ref} />`;\n",
              "      })`\n",
              "        align-items: center;\n",
              "        box-sizing: border-box;\n",
              "        display: flex;\n",
              "        height: 100%;\n",
              "        left: 0;\n",
              "        justify-content: center;\n",
              "        position: absolute;\n",
              "        top: 0;\n",
              "        width: 100%;\n",
              "      `;\n",
              "\n",
              "      const Processing = styled((props) => {\n",
              "        const { processing } = useContext(Context);\n",
              "        const text = processing === true ? &quot;Processing...&quot; : processing;\n",
              "        return h`<div className=${props.className}>${text}</div>`;\n",
              "      })`\n",
              "        bottom: 0;\n",
              "        color: #fff;\n",
              "        font-size: 12px;\n",
              "        left: 0;\n",
              "        line-height: 24px;\n",
              "        position: absolute;\n",
              "        text-align: center;\n",
              "        width: 100%;\n",
              "      `;\n",
              "\n",
              "      const Viewer = styled((props) => {\n",
              "        const { processing } = useContext(Context);\n",
              "        return h`<div className=${props.className}>\n",
              "          <${Renderer} />\n",
              "          ${processing && h`<${Processing} />`}\n",
              "        </div>`;\n",
              "      })`\n",
              "        background-color: #000b2a;\n",
              "        background-image: radial-gradient(\n",
              "          circle closest-side,\n",
              "          #000b49,\n",
              "          #000b2a\n",
              "        );\n",
              "        display: flex;\n",
              "        flex: 1;\n",
              "        overflow: hidden;\n",
              "        position: relative;\n",
              "        width: 100%;\n",
              "      `;\n",
              "\n",
              "      // Partitions the elements of arr into subarrays of max length num.\n",
              "      const groupIntoSets = (arr, num) => {\n",
              "        const sets = [];\n",
              "        arr.forEach(a => {\n",
              "          if (sets.length === 0 || sets[sets.length - 1].length === num) {\n",
              "            sets.push([]);\n",
              "          }\n",
              "          sets[sets.length - 1].push(a);\n",
              "        });\n",
              "        return sets;\n",
              "      }\n",
              "\n",
              "      // Expects `width` input prop to set proper max-width for agent name span.\n",
              "      const Legend = styled((props) => {\n",
              "        const { agents, legend } = useContext(Context);\n",
              "\n",
              "        const agentPairs = groupIntoSets(agents.sort((a, b) => a.index - b.index), 2);\n",
              "\n",
              "        return h`<div className=${props.className}>\n",
              "          ${agentPairs.map(agentList =>\n",
              "            h`<ul>\n",
              "                ${agentList.map(a =>\n",
              "                  h`<li key=${a.id} title=&quot;id: ${a.id}&quot; style=&quot;color:${a.color || &quot;#FFF&quot;}&quot;>\n",
              "                      ${a.image && h`<img src=${a.image} />`}\n",
              "                      <span>${a.name}</span>\n",
              "                    </li>`\n",
              "                )}\n",
              "              </ul>`)}\n",
              "        </div>`;\n",
              "      })`\n",
              "        background-color: #000b2a;\n",
              "        font-family: sans-serif;\n",
              "        font-size: 14px;\n",
              "        height: 48px;\n",
              "        width: 100%;\n",
              "\n",
              "        ul {\n",
              "          align-items: center;\n",
              "          display: flex;\n",
              "          flex-direction: row;\n",
              "          justify-content: center;\n",
              "        }\n",
              "\n",
              "        li {\n",
              "          align-items: center;\n",
              "          display: inline-flex;\n",
              "          transition: color 1s;\n",
              "        }\n",
              "\n",
              "        span {\n",
              "          max-width: ${p => (p.width || 400) * 0.5 - 36}px;\n",
              "          overflow: hidden;\n",
              "          text-overflow: ellipsis;\n",
              "          white-space: nowrap;\n",
              "        }\n",
              "\n",
              "        img {\n",
              "          height: 24px;\n",
              "          margin-left: 4px;\n",
              "          margin-right: 4px;\n",
              "          width: 24px;\n",
              "        }\n",
              "      `;\n",
              "\n",
              "      const StepInput = styled.input.attrs({\n",
              "        type: &quot;range&quot;,\n",
              "      })`\n",
              "        appearance: none;\n",
              "        background: rgba(255, 255, 255, 0.15);\n",
              "        border-radius: 2px;\n",
              "        display: block;\n",
              "        flex: 1;\n",
              "        height: 4px;\n",
              "        opacity: 0.8;\n",
              "        outline: none;\n",
              "        transition: opacity 0.2s;\n",
              "        width: 100%;\n",
              "\n",
              "        &:hover {\n",
              "          opacity: 1;\n",
              "        }\n",
              "\n",
              "        &::-webkit-slider-thumb {\n",
              "          appearance: none;\n",
              "          background: #1ebeff;\n",
              "          border-radius: 100%;\n",
              "          cursor: pointer;\n",
              "          height: 12px;\n",
              "          margin: 0;\n",
              "          position: relative;\n",
              "          width: 12px;\n",
              "\n",
              "          &::after {\n",
              "            content: &quot;&quot;;\n",
              "            position: absolute;\n",
              "            top: 0px;\n",
              "            left: 0px;\n",
              "            width: 200px;\n",
              "            height: 8px;\n",
              "            background: green;\n",
              "          }\n",
              "        }\n",
              "      `;\n",
              "\n",
              "      const PlayButton = styled.button`\n",
              "        align-items: center;\n",
              "        background: none;\n",
              "        border: none;\n",
              "        color: white;\n",
              "        cursor: pointer;\n",
              "        display: flex;\n",
              "        flex: 0 0 56px;\n",
              "        font-size: 20px;\n",
              "        height: 40px;\n",
              "        justify-content: center;\n",
              "        opacity: 0.8;\n",
              "        outline: none;\n",
              "        transition: opacity 0.2s;\n",
              "\n",
              "        &:hover {\n",
              "          opacity: 1;\n",
              "        }\n",
              "      `;\n",
              "\n",
              "      const StepCount = styled.span`\n",
              "        align-items: center;\n",
              "        color: white;\n",
              "        display: flex;\n",
              "        font-size: 14px;\n",
              "        justify-content: center;\n",
              "        opacity: 0.8;\n",
              "        padding: 0 16px;\n",
              "        pointer-events: none;\n",
              "      `;\n",
              "\n",
              "      const Controls = styled((props) => {\n",
              "        const { environment, pause, play, playing, setStep, step } = useContext(\n",
              "          Context\n",
              "        );\n",
              "        const value = step + 1;\n",
              "        const onClick = () => (playing ? pause() : play());\n",
              "        const onInput = (e) => {\n",
              "          pause();\n",
              "          setStep(parseInt(e.target.value) - 1);\n",
              "        };\n",
              "\n",
              "        return h`\n",
              "          <div className=${props.className}>\n",
              "            <${PlayButton} onClick=${onClick}><svg xmlns=&quot;http://www.w3.org/2000/svg&quot; width=&quot;24px&quot; height=&quot;24px&quot; viewBox=&quot;0 0 24 24&quot; fill=&quot;#FFFFFF&quot;>${\n",
              "          playing\n",
              "            ? h`<path d=&quot;M6 19h4V5H6v14zm8-14v14h4V5h-4z&quot;/><path d=&quot;M0 0h24v24H0z&quot; fill=&quot;none&quot;/>`\n",
              "            : h`<path d=&quot;M8 5v14l11-7z&quot;/><path d=&quot;M0 0h24v24H0z&quot; fill=&quot;none&quot;/>`\n",
              "        }</svg><//>\n",
              "            <${StepInput} min=&quot;1&quot; max=${\n",
              "          environment.steps.length\n",
              "        } value=&quot;${value}&quot; onInput=${onInput} />\n",
              "            <${StepCount}>${value} / ${environment.steps.length}<//>\n",
              "          </div>\n",
              "        `;\n",
              "      })`\n",
              "        align-items: center;\n",
              "        border-top: 4px solid #212121;\n",
              "        display: flex;\n",
              "        flex: 0 0 44px;\n",
              "        width: 100%;\n",
              "      `;\n",
              "\n",
              "      const Info = styled((props) => {\n",
              "        const {\n",
              "          environment,\n",
              "          playing,\n",
              "          step,\n",
              "          speed,\n",
              "          animate,\n",
              "          header,\n",
              "          controls,\n",
              "          settings,\n",
              "        } = useContext(Context);\n",
              "\n",
              "        return h`\n",
              "          <div className=${props.className}>\n",
              "            info:\n",
              "            step(${step}),\n",
              "            playing(${playing ? &quot;T&quot; : &quot;F&quot;}),\n",
              "            speed(${speed}),\n",
              "            animate(${animate ? &quot;T&quot; : &quot;F&quot;})\n",
              "          </div>`;\n",
              "      })`\n",
              "        color: #888;\n",
              "        font-family: monospace;\n",
              "        font-size: 12px;\n",
              "      `;\n",
              "\n",
              "      const Settings = styled((props) => {\n",
              "        const { environment, pause, play, playing, setStep, step } = useContext(\n",
              "          Context\n",
              "        );\n",
              "\n",
              "        return h`\n",
              "          <div className=${props.className}>\n",
              "            <${Info} />\n",
              "          </div>\n",
              "        `;\n",
              "      })`\n",
              "        background: #fff;\n",
              "        border-top: 4px solid #212121;\n",
              "        box-sizing: border-box;\n",
              "        padding: 20px;\n",
              "        width: 100%;\n",
              "\n",
              "        h1 {\n",
              "          font-size: 20px;\n",
              "        }\n",
              "      `;\n",
              "\n",
              "      const Player = styled((props) => {\n",
              "        const context = useContext(Context);\n",
              "        const { agents, controls, header, legend, loading, settings, width } = context;\n",
              "        return h`\n",
              "          <div className=${props.className}>\n",
              "            ${loading && h`<${Loading} />`}\n",
              "            ${!loading && header && h`<${Header} />`}\n",
              "            ${!loading && h`<${Viewer} />`}\n",
              "            ${!loading && legend && h`<${Legend} width=${width}/>`}\n",
              "            ${!loading && controls && h`<${Controls} />`}\n",
              "            ${!loading && settings && h`<${Settings} />`}\n",
              "          </div>`;\n",
              "      })`\n",
              "        align-items: center;\n",
              "        background: #212121;\n",
              "        border: 4px solid #212121;\n",
              "        box-sizing: border-box;\n",
              "        display: flex;\n",
              "        flex-direction: column;\n",
              "        height: 100%;\n",
              "        justify-content: center;\n",
              "        position: relative;\n",
              "        width: 100%;\n",
              "      `;\n",
              "\n",
              "      const App = () => {\n",
              "        const renderCountRef = useRef(0);\n",
              "        const [_, setRenderCount] = useState(0);\n",
              "\n",
              "        // These are bindings to the 0-9 keys and are milliseconds of timeout per step\n",
              "        const speeds = [\n",
              "          0,\n",
              "          3000,\n",
              "          1000,\n",
              "          500,\n",
              "          333, // Default\n",
              "          200,\n",
              "          100,\n",
              "          50,\n",
              "          25,\n",
              "          10,\n",
              "        ];\n",
              "\n",
              "        const contextRef = useRef({\n",
              "          animate: false,\n",
              "          agents: [],\n",
              "          controls: false,\n",
              "          debug: false,\n",
              "          environment: { steps: [], info: {} },\n",
              "          header: window.innerHeight >= 600,\n",
              "          height: window.innerHeight,\n",
              "          interactive: false,\n",
              "          legend: true,\n",
              "          loading: false,\n",
              "          playing: false,\n",
              "          processing: false,\n",
              "          renderer: () => &quot;DNE&quot;,\n",
              "          settings: false,\n",
              "          speed: speeds[4],\n",
              "          step: 0,\n",
              "          width: window.innerWidth,\n",
              "        });\n",
              "\n",
              "        // Context helpers.\n",
              "        const rerender = (contextRef.current.rerender = () =>\n",
              "          setRenderCount((renderCountRef.current += 1)));\n",
              "        const setStep = (contextRef.current.setStep = (newStep) => {\n",
              "          contextRef.current.step = newStep;\n",
              "          rerender();\n",
              "        });\n",
              "        const setPlaying = (contextRef.current.setPlaying = (playing) => {\n",
              "          contextRef.current.playing = playing;\n",
              "          rerender();\n",
              "        });\n",
              "        const pause = (contextRef.current.pause = () => setPlaying(false));\n",
              "\n",
              "        const playNext = () => {\n",
              "          const context = contextRef.current;\n",
              "\n",
              "          if (\n",
              "            context.playing &&\n",
              "            context.step < context.environment.steps.length - 1\n",
              "          ) {\n",
              "            setStep(context.step + 1);\n",
              "            play(true);\n",
              "          } else {\n",
              "            pause();\n",
              "          }\n",
              "        };\n",
              "\n",
              "        const play = (contextRef.current.play = (continuing) => {\n",
              "          const context = contextRef.current;\n",
              "          if (context.playing && !continuing) return;\n",
              "          if (!context.playing) setPlaying(true);\n",
              "          if (\n",
              "            !continuing &&\n",
              "            context.step === context.environment.steps.length - 1\n",
              "          ) {\n",
              "            setStep(0);\n",
              "          }\n",
              "          setTimeout(playNext, context.speed);\n",
              "        });\n",
              "\n",
              "        const updateContext = (o) => {\n",
              "          const context = contextRef.current;\n",
              "          Object.assign(context, o, {\n",
              "            environment: { ...context.environment, ...(o.environment || {}) },\n",
              "          });\n",
              "          rerender();\n",
              "        };\n",
              "\n",
              "        // First time setup.\n",
              "        useEffect(() => {\n",
              "          // Timeout is used to ensure useEffect renders once.\n",
              "          setTimeout(() => {\n",
              "            // Initialize context with window.kaggle.\n",
              "            updateContext(window.kaggle || {});\n",
              "\n",
              "            if (window.kaggle.playing) {\n",
              "                play(true);\n",
              "            }\n",
              "\n",
              "            // Listen for messages received to update the context.\n",
              "            window.addEventListener(\n",
              "              &quot;message&quot;,\n",
              "              (event) => {\n",
              "                // Ensure the environment names match before updating.\n",
              "                try {\n",
              "                  if (\n",
              "                    event.data.environment.name ==\n",
              "                    contextRef.current.environment.name\n",
              "                  ) {\n",
              "                    updateContext(event.data);\n",
              "                  }\n",
              "                } catch {}\n",
              "              },\n",
              "              false\n",
              "            );\n",
              "            // Listen for keyboard commands.\n",
              "            window.addEventListener(\n",
              "              &quot;keydown&quot;,\n",
              "              (event) => {\n",
              "                const {\n",
              "                  interactive,\n",
              "                  isInteractive,\n",
              "                  playing,\n",
              "                  step,\n",
              "                  environment,\n",
              "                } = contextRef.current;\n",
              "                const key = event.keyCode;\n",
              "                const zero_key = 48\n",
              "                const nine_key = 57\n",
              "                if (\n",
              "                  interactive ||\n",
              "                  isInteractive() ||\n",
              "                  (key !== 32 && key !== 37 && key !== 39 && !(key >= zero_key && key <= nine_key))\n",
              "                )\n",
              "                  return;\n",
              "\n",
              "                if (key === 32) {\n",
              "                  playing ? pause() : play();\n",
              "                } else if (key === 39) {\n",
              "                  contextRef.current.playing = false;\n",
              "                  if (step < environment.steps.length - 1) setStep(step + 1);\n",
              "                  rerender();\n",
              "                } else if (key === 37) {\n",
              "                  contextRef.current.playing = false;\n",
              "                  if (step > 0) setStep(step - 1);\n",
              "                  rerender();\n",
              "                } else if (key >= zero_key && key <= nine_key) {\n",
              "                  contextRef.current.speed = speeds[key - zero_key];\n",
              "                }\n",
              "                event.preventDefault();\n",
              "                return false;\n",
              "              },\n",
              "              false\n",
              "            );\n",
              "          }, 1);\n",
              "        }, []);\n",
              "\n",
              "        if (contextRef.current.debug) {\n",
              "          console.log(&quot;context&quot;, contextRef.current);\n",
              "        }\n",
              "\n",
              "        // Ability to update context.\n",
              "        contextRef.current.update = updateContext;\n",
              "\n",
              "        // Ability to communicate with ipython.\n",
              "        const execute = (contextRef.current.execute = (source) =>\n",
              "          new Promise((resolve, reject) => {\n",
              "            try {\n",
              "              window.parent.IPython.notebook.kernel.execute(source, {\n",
              "                iopub: {\n",
              "                  output: (resp) => {\n",
              "                    const type = resp.msg_type;\n",
              "                    if (type === &quot;stream&quot;) return resolve(resp.content.text);\n",
              "                    if (type === &quot;error&quot;) return reject(new Error(resp.evalue));\n",
              "                    return reject(new Error(&quot;Unknown message type: &quot; + type));\n",
              "                  },\n",
              "                },\n",
              "              });\n",
              "            } catch (e) {\n",
              "              reject(new Error(&quot;IPython Unavailable: &quot; + e));\n",
              "            }\n",
              "          }));\n",
              "\n",
              "        // Ability to return an action from an interactive session.\n",
              "        contextRef.current.act = (action) => {\n",
              "          const id = contextRef.current.environment.id;\n",
              "          updateContext({ processing: true });\n",
              "          execute(`\n",
              "            import json\n",
              "            from kaggle_environments import interactives\n",
              "            if &quot;${id}&quot; in interactives:\n",
              "                action = json.loads('${JSON.stringify(action)}')\n",
              "                env, trainer = interactives[&quot;${id}&quot;]\n",
              "                trainer.step(action)\n",
              "                print(json.dumps(env.steps))`)\n",
              "            .then((resp) => {\n",
              "              try {\n",
              "                updateContext({\n",
              "                  processing: false,\n",
              "                  environment: { steps: JSON.parse(resp) },\n",
              "                });\n",
              "                play();\n",
              "              } catch (e) {\n",
              "                updateContext({ processing: resp.split(&quot;\\n&quot;)[0] });\n",
              "                console.error(resp, e);\n",
              "              }\n",
              "            })\n",
              "            .catch((e) => console.error(e));\n",
              "        };\n",
              "\n",
              "        // Check if currently interactive.\n",
              "        contextRef.current.isInteractive = () => {\n",
              "          const context = contextRef.current;\n",
              "          const steps = context.environment.steps;\n",
              "          return (\n",
              "            context.interactive &&\n",
              "            !context.processing &&\n",
              "            context.step === steps.length - 1 &&\n",
              "            steps[context.step].some((s) => s.status === &quot;ACTIVE&quot;)\n",
              "          );\n",
              "        };\n",
              "\n",
              "        return h`\n",
              "          <${Context.Provider} value=${contextRef.current}>\n",
              "            <${Player} />\n",
              "          <//>`;\n",
              "      };\n",
              "\n",
              "      preact.render(h`<${App} />`, document.body);\n",
              "    </script>\n",
              "  </body>\n",
              "</html>\n",
              "\" width=\"500\" height=\"450\" frameborder=\"0\"></iframe> "
            ],
            "text/plain": [
              "<IPython.core.display.HTML object>"
            ]
          },
          "metadata": {
            "tags": []
          }
        }
      ]
    },
    {
      "cell_type": "code",
      "metadata": {
        "colab": {
          "base_uri": "https://localhost:8080/"
        },
        "id": "Ak_CHMKahEu8",
        "outputId": "fa10afe4-d04f-4e59-b4eb-a3096c85fb20"
      },
      "source": [
        "\n",
        "import numpy as np\n",
        "import time\n",
        "import scipy\n",
        "\n",
        "n_episodes = 10\n",
        "\n",
        "env = make(\"hungry_geese\", debug=False) # Set debug to False if you don't want the printed statements (or just remove the prints in the agent)\n",
        "\n",
        "def conv_agent(obs, config):\n",
        "  action = conv_net(obs, config)\n",
        "  print('action: ', action)\n",
        "  return action\n",
        "\n",
        "def simulate(env, model):\n",
        "  configuration = {\"rows\": 11, \"columns\": 7}\n",
        "  agents = [conv_net, greedy_agent]\n",
        "  objs = []\n",
        "  for i in range(n_episodes):\n",
        "    conv_net.reset()\n",
        "    env.run(agents)\n",
        "    conv_rew = env.state[0]['reward']\n",
        "    greedy_rew = env.state[1]['reward']\n",
        "    if conv_rew is None:\n",
        "      conv_rew = 0\n",
        "    # TODO: sparse, win/lose reward function?\n",
        "    objs.append(conv_rew)\n",
        "# print('simulated with mean reward: ', conv_rew)\n",
        "  obj = np.mean(objs)\n",
        "  action_freqs = np.bincount(conv_net.action_hist, minlength=4)\n",
        "  action_entropy = scipy.stats.entropy(action_freqs)\n",
        " #bcs = (action_entropy,)\n",
        "  bcs = (0,0)\n",
        "  return obj, bcs \n",
        "\n",
        "def set_nograd(nn):\n",
        "    for param in nn.parameters():\n",
        "        param.requires_grad = False\n",
        "\n",
        "\n",
        "def get_init_weights(nn):\n",
        "    \"\"\"\n",
        "    Use to get flat vector of weights from PyTorch model\n",
        "    \"\"\"\n",
        "    init_weights = []\n",
        "    for lyr in nn.layers:\n",
        "        init_weights.append(lyr.weight.view(-1).numpy())\n",
        "        init_weights.append(lyr.bias.view(-1).numpy())\n",
        "    init_weights = np.hstack(init_weights)\n",
        "\n",
        "    return init_weights\n",
        "\n",
        "\n",
        "def set_weights(nn, weights):\n",
        "    with torch.no_grad():\n",
        "        n_el = 0\n",
        "\n",
        "        for layer in nn.layers:\n",
        "            l_weights = weights[n_el:n_el + layer.weight.numel()]\n",
        "            n_el += layer.weight.numel()\n",
        "            l_weights = l_weights.reshape(layer.weight.shape)\n",
        "            layer.weight = torch.nn.Parameter(torch.Tensor(l_weights))\n",
        "            layer.weight.requires_grad = False\n",
        "            b_weights = weights[n_el:n_el + layer.bias.numel()]\n",
        "            n_el += layer.bias.numel()\n",
        "            b_weights = b_weights.reshape(layer.bias.shape)\n",
        "            layer.bias = torch.nn.Parameter(torch.Tensor(b_weights))\n",
        "            layer.bias.requires_grad = False\n",
        "\n",
        "    return nn\n",
        "\n",
        "from ribs.archives import GridArchive\n",
        "\n",
        "archive = GridArchive(\n",
        "    [1, 1],  # Just 1 bin, no BCs yet.\n",
        "    [(-1.0, 1.0), (-1.0, 1.0)],\n",
        ")\n",
        "\n",
        "from ribs.emitters import ImprovementEmitter, OptimizingEmitter\n",
        "\n",
        "conv_net = ConvNet()\n",
        "set_nograd(conv_net)\n",
        "\n",
        "initial_weights = get_init_weights(conv_net)\n",
        "print('initial weight shape: ', initial_weights.shape)\n",
        "emitters = [\n",
        "    OptimizingEmitter(\n",
        "        archive,\n",
        "        initial_weights.flatten(),\n",
        "        1.0,  # Initial step size.\n",
        "        batch_size=30,\n",
        "    ) for _ in range(3)  # Create 5 separate emitters.\n",
        "]\n",
        "\n",
        "from ribs.optimizers import Optimizer\n",
        "from tqdm import tqdm\n",
        "\n",
        "optimizer = Optimizer(archive, emitters)"
      ],
      "execution_count": null,
      "outputs": [
        {
          "output_type": "stream",
          "text": [
            "initial weight shape:  (2169,)\n"
          ],
          "name": "stdout"
        }
      ]
    },
    {
      "cell_type": "code",
      "metadata": {
        "colab": {
          "base_uri": "https://localhost:8080/"
        },
        "id": "a7onLr9vAfEx",
        "outputId": "e51118ae-66a5-4d12-a2f9-3fbbe8d81f98"
      },
      "source": [
        "start_time = time.time()\n",
        "\n",
        "for itr in tqdm(range(1, 100)):\n",
        "  sols = optimizer.ask()\n",
        "  objs, bcs = [], []\n",
        "  # TODO: parallelize this\n",
        "  for model_w in sols:\n",
        "    set_weights(conv_net, model_w)\n",
        "    m_obj, m_bcs = simulate(env, conv_agent)\n",
        "    objs.append(m_obj)\n",
        "    bcs.append(m_bcs)\n",
        "  # Send the results back to the optimizer.\n",
        "  optimizer.tell(objs, bcs)\n",
        "\n",
        "  # Logging.\n",
        "  if itr % 1 == 0:\n",
        "      df = archive.as_pandas(include_solutions=False)\n",
        "      elapsed_time = time.time() - start_time\n",
        "      print(f\"> {itr} itrs completed after {elapsed_time:.2f} s\")\n",
        "      print(f\"  - Archive Size: {len(df)}\")\n",
        "      print(f\"  - Max Score: {df['objective'].max()}\")\n"
      ],
      "execution_count": null,
      "outputs": [
        {
          "output_type": "stream",
          "text": [
            "  1%|          | 1/99 [00:21<35:02, 21.45s/it]"
          ],
          "name": "stderr"
        },
        {
          "output_type": "stream",
          "text": [
            "> 1 itrs completed after 21.46 s\n",
            "  - Archive Size: 1\n",
            "  - Max Score: 1351.5\n"
          ],
          "name": "stdout"
        },
        {
          "output_type": "stream",
          "text": [
            "\r  2%|▏         | 2/99 [00:38<32:35, 20.16s/it]"
          ],
          "name": "stderr"
        },
        {
          "output_type": "stream",
          "text": [
            "> 2 itrs completed after 38.60 s\n",
            "  - Archive Size: 1\n",
            "  - Max Score: 1471.0\n"
          ],
          "name": "stdout"
        },
        {
          "output_type": "stream",
          "text": [
            "\r  3%|▎         | 3/99 [00:56<30:59, 19.37s/it]"
          ],
          "name": "stderr"
        },
        {
          "output_type": "stream",
          "text": [
            "> 3 itrs completed after 56.12 s\n",
            "  - Archive Size: 1\n",
            "  - Max Score: 1471.0\n"
          ],
          "name": "stdout"
        },
        {
          "output_type": "stream",
          "text": [
            "\r  4%|▍         | 4/99 [01:13<29:55, 18.90s/it]"
          ],
          "name": "stderr"
        },
        {
          "output_type": "stream",
          "text": [
            "> 4 itrs completed after 73.94 s\n",
            "  - Archive Size: 1\n",
            "  - Max Score: 1611.2\n"
          ],
          "name": "stdout"
        },
        {
          "output_type": "stream",
          "text": [
            "\r  5%|▌         | 5/99 [01:31<29:09, 18.62s/it]"
          ],
          "name": "stderr"
        },
        {
          "output_type": "stream",
          "text": [
            "> 5 itrs completed after 91.88 s\n",
            "  - Archive Size: 1\n",
            "  - Max Score: 1611.2\n"
          ],
          "name": "stdout"
        },
        {
          "output_type": "stream",
          "text": [
            "\r  6%|▌         | 6/99 [01:49<28:33, 18.43s/it]"
          ],
          "name": "stderr"
        },
        {
          "output_type": "stream",
          "text": [
            "> 6 itrs completed after 109.87 s\n",
            "  - Archive Size: 1\n",
            "  - Max Score: 1611.2\n"
          ],
          "name": "stdout"
        },
        {
          "output_type": "stream",
          "text": [
            "\r  7%|▋         | 7/99 [02:08<28:18, 18.46s/it]"
          ],
          "name": "stderr"
        },
        {
          "output_type": "stream",
          "text": [
            "> 7 itrs completed after 128.41 s\n",
            "  - Archive Size: 1\n",
            "  - Max Score: 1611.2\n"
          ],
          "name": "stdout"
        },
        {
          "output_type": "stream",
          "text": [
            "\r  8%|▊         | 8/99 [02:28<28:43, 18.94s/it]"
          ],
          "name": "stderr"
        },
        {
          "output_type": "stream",
          "text": [
            "> 8 itrs completed after 148.46 s\n",
            "  - Archive Size: 1\n",
            "  - Max Score: 1611.2\n"
          ],
          "name": "stdout"
        },
        {
          "output_type": "stream",
          "text": [
            "\r  9%|▉         | 9/99 [02:47<28:32, 19.03s/it]"
          ],
          "name": "stderr"
        },
        {
          "output_type": "stream",
          "text": [
            "> 9 itrs completed after 167.70 s\n",
            "  - Archive Size: 1\n",
            "  - Max Score: 1611.2\n"
          ],
          "name": "stdout"
        },
        {
          "output_type": "stream",
          "text": [
            "\r 10%|█         | 10/99 [03:07<28:37, 19.29s/it]"
          ],
          "name": "stderr"
        },
        {
          "output_type": "stream",
          "text": [
            "> 10 itrs completed after 187.61 s\n",
            "  - Archive Size: 1\n",
            "  - Max Score: 1611.2\n"
          ],
          "name": "stdout"
        },
        {
          "output_type": "stream",
          "text": [
            "\r 11%|█         | 11/99 [03:28<28:52, 19.69s/it]"
          ],
          "name": "stderr"
        },
        {
          "output_type": "stream",
          "text": [
            "> 11 itrs completed after 208.21 s\n",
            "  - Archive Size: 1\n",
            "  - Max Score: 1821.7\n"
          ],
          "name": "stdout"
        },
        {
          "output_type": "stream",
          "text": [
            "\r 12%|█▏        | 12/99 [03:50<29:30, 20.35s/it]"
          ],
          "name": "stderr"
        },
        {
          "output_type": "stream",
          "text": [
            "> 12 itrs completed after 230.12 s\n",
            "  - Archive Size: 1\n",
            "  - Max Score: 1821.7\n"
          ],
          "name": "stdout"
        },
        {
          "output_type": "stream",
          "text": [
            "\r 13%|█▎        | 13/99 [04:11<29:29, 20.58s/it]"
          ],
          "name": "stderr"
        },
        {
          "output_type": "stream",
          "text": [
            "> 13 itrs completed after 251.23 s\n",
            "  - Archive Size: 1\n",
            "  - Max Score: 1821.7\n"
          ],
          "name": "stdout"
        },
        {
          "output_type": "stream",
          "text": [
            "\r 14%|█▍        | 14/99 [04:33<29:54, 21.11s/it]"
          ],
          "name": "stderr"
        },
        {
          "output_type": "stream",
          "text": [
            "> 14 itrs completed after 273.58 s\n",
            "  - Archive Size: 1\n",
            "  - Max Score: 2131.6\n"
          ],
          "name": "stdout"
        },
        {
          "output_type": "stream",
          "text": [
            "\r 15%|█▌        | 15/99 [04:55<29:58, 21.42s/it]"
          ],
          "name": "stderr"
        },
        {
          "output_type": "stream",
          "text": [
            "> 15 itrs completed after 295.71 s\n",
            "  - Archive Size: 1\n",
            "  - Max Score: 2131.6\n"
          ],
          "name": "stdout"
        },
        {
          "output_type": "stream",
          "text": [
            "\r 16%|█▌        | 16/99 [05:18<30:15, 21.87s/it]"
          ],
          "name": "stderr"
        },
        {
          "output_type": "stream",
          "text": [
            "> 16 itrs completed after 318.63 s\n",
            "  - Archive Size: 1\n",
            "  - Max Score: 2131.6\n"
          ],
          "name": "stdout"
        },
        {
          "output_type": "stream",
          "text": [
            "\r 17%|█▋        | 17/99 [05:41<30:19, 22.19s/it]"
          ],
          "name": "stderr"
        },
        {
          "output_type": "stream",
          "text": [
            "> 17 itrs completed after 341.57 s\n",
            "  - Archive Size: 1\n",
            "  - Max Score: 2131.6\n"
          ],
          "name": "stdout"
        },
        {
          "output_type": "stream",
          "text": [
            "\r 18%|█▊        | 18/99 [06:03<30:02, 22.25s/it]"
          ],
          "name": "stderr"
        },
        {
          "output_type": "stream",
          "text": [
            "> 18 itrs completed after 363.96 s\n",
            "  - Archive Size: 1\n",
            "  - Max Score: 2131.6\n"
          ],
          "name": "stdout"
        },
        {
          "output_type": "stream",
          "text": [
            "\r 19%|█▉        | 19/99 [06:26<29:49, 22.37s/it]"
          ],
          "name": "stderr"
        },
        {
          "output_type": "stream",
          "text": [
            "> 19 itrs completed after 386.62 s\n",
            "  - Archive Size: 1\n",
            "  - Max Score: 2131.6\n"
          ],
          "name": "stdout"
        },
        {
          "output_type": "stream",
          "text": [
            "\r 20%|██        | 20/99 [06:50<30:06, 22.86s/it]"
          ],
          "name": "stderr"
        },
        {
          "output_type": "stream",
          "text": [
            "> 20 itrs completed after 410.63 s\n",
            "  - Archive Size: 1\n",
            "  - Max Score: 2131.6\n"
          ],
          "name": "stdout"
        },
        {
          "output_type": "stream",
          "text": [
            "\r 21%|██        | 21/99 [07:14<29:58, 23.05s/it]"
          ],
          "name": "stderr"
        },
        {
          "output_type": "stream",
          "text": [
            "> 21 itrs completed after 434.13 s\n",
            "  - Archive Size: 1\n",
            "  - Max Score: 2131.6\n"
          ],
          "name": "stdout"
        },
        {
          "output_type": "stream",
          "text": [
            "\r 22%|██▏       | 22/99 [07:36<29:22, 22.90s/it]"
          ],
          "name": "stderr"
        },
        {
          "output_type": "stream",
          "text": [
            "> 22 itrs completed after 456.65 s\n",
            "  - Archive Size: 1\n",
            "  - Max Score: 2131.6\n"
          ],
          "name": "stdout"
        },
        {
          "output_type": "stream",
          "text": [
            "\r 23%|██▎       | 23/99 [07:59<28:57, 22.87s/it]"
          ],
          "name": "stderr"
        },
        {
          "output_type": "stream",
          "text": [
            "> 23 itrs completed after 479.45 s\n",
            "  - Archive Size: 1\n",
            "  - Max Score: 2131.6\n"
          ],
          "name": "stdout"
        },
        {
          "output_type": "stream",
          "text": [
            "\r 24%|██▍       | 24/99 [08:23<28:58, 23.18s/it]"
          ],
          "name": "stderr"
        },
        {
          "output_type": "stream",
          "text": [
            "> 24 itrs completed after 503.36 s\n",
            "  - Archive Size: 1\n",
            "  - Max Score: 2131.6\n"
          ],
          "name": "stdout"
        },
        {
          "output_type": "stream",
          "text": [
            "\r 25%|██▌       | 25/99 [08:49<29:33, 23.97s/it]"
          ],
          "name": "stderr"
        },
        {
          "output_type": "stream",
          "text": [
            "> 25 itrs completed after 529.18 s\n",
            "  - Archive Size: 1\n",
            "  - Max Score: 2131.6\n"
          ],
          "name": "stdout"
        },
        {
          "output_type": "stream",
          "text": [
            "\r 26%|██▋       | 26/99 [09:12<28:59, 23.82s/it]"
          ],
          "name": "stderr"
        },
        {
          "output_type": "stream",
          "text": [
            "> 26 itrs completed after 552.66 s\n",
            "  - Archive Size: 1\n",
            "  - Max Score: 2131.6\n"
          ],
          "name": "stdout"
        },
        {
          "output_type": "stream",
          "text": [
            "\r 27%|██▋       | 27/99 [09:36<28:41, 23.91s/it]"
          ],
          "name": "stderr"
        },
        {
          "output_type": "stream",
          "text": [
            "> 27 itrs completed after 576.75 s\n",
            "  - Archive Size: 1\n",
            "  - Max Score: 2131.6\n"
          ],
          "name": "stdout"
        },
        {
          "output_type": "stream",
          "text": [
            "\r 28%|██▊       | 28/99 [10:00<28:22, 23.98s/it]"
          ],
          "name": "stderr"
        },
        {
          "output_type": "stream",
          "text": [
            "> 28 itrs completed after 600.92 s\n",
            "  - Archive Size: 1\n",
            "  - Max Score: 2131.6\n"
          ],
          "name": "stdout"
        },
        {
          "output_type": "stream",
          "text": [
            "\r 29%|██▉       | 29/99 [10:25<28:04, 24.06s/it]"
          ],
          "name": "stderr"
        },
        {
          "output_type": "stream",
          "text": [
            "> 29 itrs completed after 625.16 s\n",
            "  - Archive Size: 1\n",
            "  - Max Score: 2131.6\n"
          ],
          "name": "stdout"
        },
        {
          "output_type": "stream",
          "text": [
            "\r 30%|███       | 30/99 [10:48<27:21, 23.80s/it]"
          ],
          "name": "stderr"
        },
        {
          "output_type": "stream",
          "text": [
            "> 30 itrs completed after 648.34 s\n",
            "  - Archive Size: 1\n",
            "  - Max Score: 2131.6\n"
          ],
          "name": "stdout"
        },
        {
          "output_type": "stream",
          "text": [
            "\r 31%|███▏      | 31/99 [11:12<27:05, 23.91s/it]"
          ],
          "name": "stderr"
        },
        {
          "output_type": "stream",
          "text": [
            "> 31 itrs completed after 672.51 s\n",
            "  - Archive Size: 1\n",
            "  - Max Score: 2131.6\n"
          ],
          "name": "stdout"
        },
        {
          "output_type": "stream",
          "text": [
            "\r 32%|███▏      | 32/99 [11:35<26:16, 23.53s/it]"
          ],
          "name": "stderr"
        },
        {
          "output_type": "stream",
          "text": [
            "> 32 itrs completed after 695.16 s\n",
            "  - Archive Size: 1\n",
            "  - Max Score: 2131.6\n"
          ],
          "name": "stdout"
        },
        {
          "output_type": "stream",
          "text": [
            "\r 33%|███▎      | 33/99 [12:00<26:24, 24.01s/it]"
          ],
          "name": "stderr"
        },
        {
          "output_type": "stream",
          "text": [
            "> 33 itrs completed after 720.29 s\n",
            "  - Archive Size: 1\n",
            "  - Max Score: 2131.6\n"
          ],
          "name": "stdout"
        },
        {
          "output_type": "stream",
          "text": [
            "\r 34%|███▍      | 34/99 [12:24<25:57, 23.97s/it]"
          ],
          "name": "stderr"
        },
        {
          "output_type": "stream",
          "text": [
            "> 34 itrs completed after 744.15 s\n",
            "  - Archive Size: 1\n",
            "  - Max Score: 2131.6\n"
          ],
          "name": "stdout"
        },
        {
          "output_type": "stream",
          "text": [
            "\r 35%|███▌      | 35/99 [12:47<25:27, 23.87s/it]"
          ],
          "name": "stderr"
        },
        {
          "output_type": "stream",
          "text": [
            "> 35 itrs completed after 767.79 s\n",
            "  - Archive Size: 1\n",
            "  - Max Score: 2131.6\n"
          ],
          "name": "stdout"
        },
        {
          "output_type": "stream",
          "text": [
            "\r 36%|███▋      | 36/99 [13:11<24:51, 23.68s/it]"
          ],
          "name": "stderr"
        },
        {
          "output_type": "stream",
          "text": [
            "> 36 itrs completed after 791.04 s\n",
            "  - Archive Size: 1\n",
            "  - Max Score: 2131.6\n"
          ],
          "name": "stdout"
        },
        {
          "output_type": "stream",
          "text": [
            "\r 37%|███▋      | 37/99 [13:35<24:37, 23.84s/it]"
          ],
          "name": "stderr"
        },
        {
          "output_type": "stream",
          "text": [
            "> 37 itrs completed after 815.23 s\n",
            "  - Archive Size: 1\n",
            "  - Max Score: 2131.6\n"
          ],
          "name": "stdout"
        },
        {
          "output_type": "stream",
          "text": [
            "\r 38%|███▊      | 38/99 [13:59<24:21, 23.96s/it]"
          ],
          "name": "stderr"
        },
        {
          "output_type": "stream",
          "text": [
            "> 38 itrs completed after 839.49 s\n",
            "  - Archive Size: 1\n",
            "  - Max Score: 2131.6\n"
          ],
          "name": "stdout"
        },
        {
          "output_type": "stream",
          "text": [
            "\r 39%|███▉      | 39/99 [14:22<23:49, 23.82s/it]"
          ],
          "name": "stderr"
        },
        {
          "output_type": "stream",
          "text": [
            "> 39 itrs completed after 862.99 s\n",
            "  - Archive Size: 1\n",
            "  - Max Score: 2131.6\n"
          ],
          "name": "stdout"
        },
        {
          "output_type": "stream",
          "text": [
            "\r 40%|████      | 40/99 [14:46<23:26, 23.84s/it]"
          ],
          "name": "stderr"
        },
        {
          "output_type": "stream",
          "text": [
            "> 40 itrs completed after 886.86 s\n",
            "  - Archive Size: 1\n",
            "  - Max Score: 2131.6\n"
          ],
          "name": "stdout"
        },
        {
          "output_type": "stream",
          "text": [
            "\r 41%|████▏     | 41/99 [15:11<23:16, 24.08s/it]"
          ],
          "name": "stderr"
        },
        {
          "output_type": "stream",
          "text": [
            "> 41 itrs completed after 911.50 s\n",
            "  - Archive Size: 1\n",
            "  - Max Score: 2131.6\n"
          ],
          "name": "stdout"
        },
        {
          "output_type": "stream",
          "text": [
            "\r 42%|████▏     | 42/99 [15:36<23:01, 24.24s/it]"
          ],
          "name": "stderr"
        },
        {
          "output_type": "stream",
          "text": [
            "> 42 itrs completed after 936.13 s\n",
            "  - Archive Size: 1\n",
            "  - Max Score: 2131.6\n"
          ],
          "name": "stdout"
        },
        {
          "output_type": "stream",
          "text": [
            "\r 43%|████▎     | 43/99 [16:00<22:48, 24.43s/it]"
          ],
          "name": "stderr"
        },
        {
          "output_type": "stream",
          "text": [
            "> 43 itrs completed after 961.00 s\n",
            "  - Archive Size: 1\n",
            "  - Max Score: 2131.6\n"
          ],
          "name": "stdout"
        },
        {
          "output_type": "stream",
          "text": [
            "\r 44%|████▍     | 44/99 [16:25<22:20, 24.37s/it]"
          ],
          "name": "stderr"
        },
        {
          "output_type": "stream",
          "text": [
            "> 44 itrs completed after 985.24 s\n",
            "  - Archive Size: 1\n",
            "  - Max Score: 2131.6\n"
          ],
          "name": "stdout"
        },
        {
          "output_type": "stream",
          "text": [
            "\r 45%|████▌     | 45/99 [16:49<21:51, 24.29s/it]"
          ],
          "name": "stderr"
        },
        {
          "output_type": "stream",
          "text": [
            "> 45 itrs completed after 1009.35 s\n",
            "  - Archive Size: 1\n",
            "  - Max Score: 2131.6\n"
          ],
          "name": "stdout"
        },
        {
          "output_type": "stream",
          "text": [
            "\r 46%|████▋     | 46/99 [17:13<21:28, 24.31s/it]"
          ],
          "name": "stderr"
        },
        {
          "output_type": "stream",
          "text": [
            "> 46 itrs completed after 1033.69 s\n",
            "  - Archive Size: 1\n",
            "  - Max Score: 2131.6\n"
          ],
          "name": "stdout"
        },
        {
          "output_type": "stream",
          "text": [
            "\r 47%|████▋     | 47/99 [17:36<20:44, 23.93s/it]"
          ],
          "name": "stderr"
        },
        {
          "output_type": "stream",
          "text": [
            "> 47 itrs completed after 1056.74 s\n",
            "  - Archive Size: 1\n",
            "  - Max Score: 2131.6\n"
          ],
          "name": "stdout"
        },
        {
          "output_type": "stream",
          "text": [
            "\r 48%|████▊     | 48/99 [18:00<20:23, 23.99s/it]"
          ],
          "name": "stderr"
        },
        {
          "output_type": "stream",
          "text": [
            "> 48 itrs completed after 1080.88 s\n",
            "  - Archive Size: 1\n",
            "  - Max Score: 2131.6\n"
          ],
          "name": "stdout"
        },
        {
          "output_type": "stream",
          "text": [
            "\r 49%|████▉     | 49/99 [18:24<19:58, 23.98s/it]"
          ],
          "name": "stderr"
        },
        {
          "output_type": "stream",
          "text": [
            "> 49 itrs completed after 1104.81 s\n",
            "  - Archive Size: 1\n",
            "  - Max Score: 2131.6\n"
          ],
          "name": "stdout"
        },
        {
          "output_type": "stream",
          "text": [
            "\r 51%|█████     | 50/99 [18:50<19:53, 24.35s/it]"
          ],
          "name": "stderr"
        },
        {
          "output_type": "stream",
          "text": [
            "> 50 itrs completed after 1130.03 s\n",
            "  - Archive Size: 1\n",
            "  - Max Score: 2131.6\n"
          ],
          "name": "stdout"
        },
        {
          "output_type": "stream",
          "text": [
            "\r 52%|█████▏    | 51/99 [19:13<19:20, 24.19s/it]"
          ],
          "name": "stderr"
        },
        {
          "output_type": "stream",
          "text": [
            "> 51 itrs completed after 1153.84 s\n",
            "  - Archive Size: 1\n",
            "  - Max Score: 2131.6\n"
          ],
          "name": "stdout"
        },
        {
          "output_type": "stream",
          "text": [
            "\r 53%|█████▎    | 52/99 [19:36<18:40, 23.84s/it]"
          ],
          "name": "stderr"
        },
        {
          "output_type": "stream",
          "text": [
            "> 52 itrs completed after 1176.87 s\n",
            "  - Archive Size: 1\n",
            "  - Max Score: 2131.6\n"
          ],
          "name": "stdout"
        },
        {
          "output_type": "stream",
          "text": [
            "\r 54%|█████▎    | 53/99 [20:00<18:17, 23.86s/it]"
          ],
          "name": "stderr"
        },
        {
          "output_type": "stream",
          "text": [
            "> 53 itrs completed after 1200.77 s\n",
            "  - Archive Size: 1\n",
            "  - Max Score: 2181.6\n"
          ],
          "name": "stdout"
        },
        {
          "output_type": "stream",
          "text": [
            "\r 55%|█████▍    | 54/99 [20:26<18:12, 24.29s/it]"
          ],
          "name": "stderr"
        },
        {
          "output_type": "stream",
          "text": [
            "> 54 itrs completed after 1226.06 s\n",
            "  - Archive Size: 1\n",
            "  - Max Score: 2181.6\n"
          ],
          "name": "stdout"
        },
        {
          "output_type": "stream",
          "text": [
            "\r 56%|█████▌    | 55/99 [20:50<17:49, 24.31s/it]"
          ],
          "name": "stderr"
        },
        {
          "output_type": "stream",
          "text": [
            "> 55 itrs completed after 1250.43 s\n",
            "  - Archive Size: 1\n",
            "  - Max Score: 2181.6\n"
          ],
          "name": "stdout"
        },
        {
          "output_type": "stream",
          "text": [
            "\r 57%|█████▋    | 56/99 [21:12<17:01, 23.77s/it]"
          ],
          "name": "stderr"
        },
        {
          "output_type": "stream",
          "text": [
            "> 56 itrs completed after 1272.92 s\n",
            "  - Archive Size: 1\n",
            "  - Max Score: 2181.6\n"
          ],
          "name": "stdout"
        },
        {
          "output_type": "stream",
          "text": [
            "\r 58%|█████▊    | 57/99 [21:36<16:33, 23.65s/it]"
          ],
          "name": "stderr"
        },
        {
          "output_type": "stream",
          "text": [
            "> 57 itrs completed after 1296.31 s\n",
            "  - Archive Size: 1\n",
            "  - Max Score: 2181.6\n"
          ],
          "name": "stdout"
        },
        {
          "output_type": "stream",
          "text": [
            "\r 59%|█████▊    | 58/99 [22:00<16:19, 23.90s/it]"
          ],
          "name": "stderr"
        },
        {
          "output_type": "stream",
          "text": [
            "> 58 itrs completed after 1320.78 s\n",
            "  - Archive Size: 1\n",
            "  - Max Score: 2181.6\n"
          ],
          "name": "stdout"
        },
        {
          "output_type": "stream",
          "text": [
            "\r 60%|█████▉    | 59/99 [22:24<15:56, 23.91s/it]"
          ],
          "name": "stderr"
        },
        {
          "output_type": "stream",
          "text": [
            "> 59 itrs completed after 1344.72 s\n",
            "  - Archive Size: 1\n",
            "  - Max Score: 2181.6\n"
          ],
          "name": "stdout"
        },
        {
          "output_type": "stream",
          "text": [
            "\r 61%|██████    | 60/99 [22:48<15:29, 23.83s/it]"
          ],
          "name": "stderr"
        },
        {
          "output_type": "stream",
          "text": [
            "> 60 itrs completed after 1368.35 s\n",
            "  - Archive Size: 1\n",
            "  - Max Score: 2181.6\n"
          ],
          "name": "stdout"
        },
        {
          "output_type": "stream",
          "text": [
            "\r 62%|██████▏   | 61/99 [23:12<15:12, 24.02s/it]"
          ],
          "name": "stderr"
        },
        {
          "output_type": "stream",
          "text": [
            "> 61 itrs completed after 1392.82 s\n",
            "  - Archive Size: 1\n",
            "  - Max Score: 2181.6\n"
          ],
          "name": "stdout"
        },
        {
          "output_type": "stream",
          "text": [
            "\r 63%|██████▎   | 62/99 [23:35<14:37, 23.70s/it]"
          ],
          "name": "stderr"
        },
        {
          "output_type": "stream",
          "text": [
            "> 62 itrs completed after 1415.78 s\n",
            "  - Archive Size: 1\n",
            "  - Max Score: 2181.6\n"
          ],
          "name": "stdout"
        },
        {
          "output_type": "stream",
          "text": [
            "\r 64%|██████▎   | 63/99 [23:59<14:16, 23.79s/it]"
          ],
          "name": "stderr"
        },
        {
          "output_type": "stream",
          "text": [
            "> 63 itrs completed after 1439.76 s\n",
            "  - Archive Size: 1\n",
            "  - Max Score: 2181.6\n"
          ],
          "name": "stdout"
        },
        {
          "output_type": "stream",
          "text": [
            "\r 65%|██████▍   | 64/99 [24:22<13:46, 23.60s/it]"
          ],
          "name": "stderr"
        },
        {
          "output_type": "stream",
          "text": [
            "> 64 itrs completed after 1462.94 s\n",
            "  - Archive Size: 1\n",
            "  - Max Score: 2181.6\n"
          ],
          "name": "stdout"
        },
        {
          "output_type": "stream",
          "text": [
            "\r 66%|██████▌   | 65/99 [24:46<13:27, 23.74s/it]"
          ],
          "name": "stderr"
        },
        {
          "output_type": "stream",
          "text": [
            "> 65 itrs completed after 1487.00 s\n",
            "  - Archive Size: 1\n",
            "  - Max Score: 2181.6\n"
          ],
          "name": "stdout"
        },
        {
          "output_type": "stream",
          "text": [
            "\r 67%|██████▋   | 66/99 [25:11<13:10, 23.97s/it]"
          ],
          "name": "stderr"
        },
        {
          "output_type": "stream",
          "text": [
            "> 66 itrs completed after 1511.50 s\n",
            "  - Archive Size: 1\n",
            "  - Max Score: 2181.6\n"
          ],
          "name": "stdout"
        },
        {
          "output_type": "stream",
          "text": [
            "\r 68%|██████▊   | 67/99 [25:34<12:42, 23.83s/it]"
          ],
          "name": "stderr"
        },
        {
          "output_type": "stream",
          "text": [
            "> 67 itrs completed after 1535.00 s\n",
            "  - Archive Size: 1\n",
            "  - Max Score: 2181.6\n"
          ],
          "name": "stdout"
        },
        {
          "output_type": "stream",
          "text": [
            "\r 69%|██████▊   | 68/99 [25:58<12:18, 23.81s/it]"
          ],
          "name": "stderr"
        },
        {
          "output_type": "stream",
          "text": [
            "> 68 itrs completed after 1558.77 s\n",
            "  - Archive Size: 1\n",
            "  - Max Score: 2181.6\n"
          ],
          "name": "stdout"
        },
        {
          "output_type": "stream",
          "text": [
            "\r 70%|██████▉   | 69/99 [26:24<12:09, 24.31s/it]"
          ],
          "name": "stderr"
        },
        {
          "output_type": "stream",
          "text": [
            "> 69 itrs completed after 1584.24 s\n",
            "  - Archive Size: 1\n",
            "  - Max Score: 2181.6\n"
          ],
          "name": "stdout"
        },
        {
          "output_type": "stream",
          "text": [
            "\r 71%|███████   | 70/99 [26:48<11:48, 24.44s/it]"
          ],
          "name": "stderr"
        },
        {
          "output_type": "stream",
          "text": [
            "> 70 itrs completed after 1609.00 s\n",
            "  - Archive Size: 1\n",
            "  - Max Score: 2181.6\n"
          ],
          "name": "stdout"
        },
        {
          "output_type": "stream",
          "text": [
            "\r 72%|███████▏  | 71/99 [27:13<11:27, 24.54s/it]"
          ],
          "name": "stderr"
        },
        {
          "output_type": "stream",
          "text": [
            "> 71 itrs completed after 1633.77 s\n",
            "  - Archive Size: 1\n",
            "  - Max Score: 2181.6\n"
          ],
          "name": "stdout"
        },
        {
          "output_type": "stream",
          "text": [
            "\r 73%|███████▎  | 72/99 [27:45<11:59, 26.65s/it]"
          ],
          "name": "stderr"
        },
        {
          "output_type": "stream",
          "text": [
            "> 72 itrs completed after 1665.35 s\n",
            "  - Archive Size: 1\n",
            "  - Max Score: 2181.6\n"
          ],
          "name": "stdout"
        },
        {
          "output_type": "stream",
          "text": [
            "\r 74%|███████▎  | 73/99 [28:09<11:13, 25.90s/it]"
          ],
          "name": "stderr"
        },
        {
          "output_type": "stream",
          "text": [
            "> 73 itrs completed after 1689.50 s\n",
            "  - Archive Size: 1\n",
            "  - Max Score: 2181.6\n"
          ],
          "name": "stdout"
        },
        {
          "output_type": "stream",
          "text": [
            "\r 75%|███████▍  | 74/99 [28:34<10:41, 25.67s/it]"
          ],
          "name": "stderr"
        },
        {
          "output_type": "stream",
          "text": [
            "> 74 itrs completed after 1714.62 s\n",
            "  - Archive Size: 1\n",
            "  - Max Score: 2181.6\n"
          ],
          "name": "stdout"
        },
        {
          "output_type": "stream",
          "text": [
            "\r 76%|███████▌  | 75/99 [28:57<09:59, 24.97s/it]"
          ],
          "name": "stderr"
        },
        {
          "output_type": "stream",
          "text": [
            "> 75 itrs completed after 1737.96 s\n",
            "  - Archive Size: 1\n",
            "  - Max Score: 2181.6\n"
          ],
          "name": "stdout"
        },
        {
          "output_type": "stream",
          "text": [
            "\r 77%|███████▋  | 76/99 [29:22<09:29, 24.75s/it]"
          ],
          "name": "stderr"
        },
        {
          "output_type": "stream",
          "text": [
            "> 76 itrs completed after 1762.19 s\n",
            "  - Archive Size: 1\n",
            "  - Max Score: 2181.6\n"
          ],
          "name": "stdout"
        },
        {
          "output_type": "stream",
          "text": [
            "\r 78%|███████▊  | 77/99 [29:46<09:00, 24.57s/it]"
          ],
          "name": "stderr"
        },
        {
          "output_type": "stream",
          "text": [
            "> 77 itrs completed after 1786.35 s\n",
            "  - Archive Size: 1\n",
            "  - Max Score: 2181.6\n"
          ],
          "name": "stdout"
        },
        {
          "output_type": "stream",
          "text": [
            "\r 79%|███████▉  | 78/99 [30:10<08:30, 24.32s/it]"
          ],
          "name": "stderr"
        },
        {
          "output_type": "stream",
          "text": [
            "> 78 itrs completed after 1810.10 s\n",
            "  - Archive Size: 1\n",
            "  - Max Score: 2181.6\n"
          ],
          "name": "stdout"
        },
        {
          "output_type": "stream",
          "text": [
            "\r 80%|███████▉  | 79/99 [30:34<08:05, 24.29s/it]"
          ],
          "name": "stderr"
        },
        {
          "output_type": "stream",
          "text": [
            "> 79 itrs completed after 1834.32 s\n",
            "  - Archive Size: 1\n",
            "  - Max Score: 2181.6\n"
          ],
          "name": "stdout"
        },
        {
          "output_type": "stream",
          "text": [
            "\r 81%|████████  | 80/99 [30:57<07:37, 24.06s/it]"
          ],
          "name": "stderr"
        },
        {
          "output_type": "stream",
          "text": [
            "> 80 itrs completed after 1857.82 s\n",
            "  - Archive Size: 1\n",
            "  - Max Score: 2181.6\n"
          ],
          "name": "stdout"
        },
        {
          "output_type": "stream",
          "text": [
            "\r 82%|████████▏ | 81/99 [31:22<07:17, 24.28s/it]"
          ],
          "name": "stderr"
        },
        {
          "output_type": "stream",
          "text": [
            "> 81 itrs completed after 1882.63 s\n",
            "  - Archive Size: 1\n",
            "  - Max Score: 2181.6\n"
          ],
          "name": "stdout"
        },
        {
          "output_type": "stream",
          "text": [
            "\r 83%|████████▎ | 82/99 [31:46<06:50, 24.17s/it]"
          ],
          "name": "stderr"
        },
        {
          "output_type": "stream",
          "text": [
            "> 82 itrs completed after 1906.52 s\n",
            "  - Archive Size: 1\n",
            "  - Max Score: 2181.6\n"
          ],
          "name": "stdout"
        },
        {
          "output_type": "stream",
          "text": [
            "\r 84%|████████▍ | 83/99 [32:10<06:24, 24.03s/it]"
          ],
          "name": "stderr"
        },
        {
          "output_type": "stream",
          "text": [
            "> 83 itrs completed after 1930.24 s\n",
            "  - Archive Size: 1\n",
            "  - Max Score: 2181.6\n"
          ],
          "name": "stdout"
        },
        {
          "output_type": "stream",
          "text": [
            "\r 85%|████████▍ | 84/99 [32:34<06:02, 24.15s/it]"
          ],
          "name": "stderr"
        },
        {
          "output_type": "stream",
          "text": [
            "> 84 itrs completed after 1954.69 s\n",
            "  - Archive Size: 1\n",
            "  - Max Score: 2181.6\n"
          ],
          "name": "stdout"
        },
        {
          "output_type": "stream",
          "text": [
            "\r 86%|████████▌ | 85/99 [33:00<05:46, 24.74s/it]"
          ],
          "name": "stderr"
        },
        {
          "output_type": "stream",
          "text": [
            "> 85 itrs completed after 1980.78 s\n",
            "  - Archive Size: 1\n",
            "  - Max Score: 2181.6\n"
          ],
          "name": "stdout"
        },
        {
          "output_type": "stream",
          "text": [
            "\r 87%|████████▋ | 86/99 [33:25<05:22, 24.80s/it]"
          ],
          "name": "stderr"
        },
        {
          "output_type": "stream",
          "text": [
            "> 86 itrs completed after 2005.71 s\n",
            "  - Archive Size: 1\n",
            "  - Max Score: 2181.6\n"
          ],
          "name": "stdout"
        },
        {
          "output_type": "stream",
          "text": [
            "\r 88%|████████▊ | 87/99 [33:50<04:58, 24.84s/it]"
          ],
          "name": "stderr"
        },
        {
          "output_type": "stream",
          "text": [
            "> 87 itrs completed after 2030.65 s\n",
            "  - Archive Size: 1\n",
            "  - Max Score: 2181.6\n"
          ],
          "name": "stdout"
        },
        {
          "output_type": "stream",
          "text": [
            "\r 89%|████████▉ | 88/99 [34:16<04:37, 25.24s/it]"
          ],
          "name": "stderr"
        },
        {
          "output_type": "stream",
          "text": [
            "> 88 itrs completed after 2056.82 s\n",
            "  - Archive Size: 1\n",
            "  - Max Score: 2181.6\n"
          ],
          "name": "stdout"
        },
        {
          "output_type": "stream",
          "text": [
            "\r 90%|████████▉ | 89/99 [34:42<04:12, 25.26s/it]"
          ],
          "name": "stderr"
        },
        {
          "output_type": "stream",
          "text": [
            "> 89 itrs completed after 2082.12 s\n",
            "  - Archive Size: 1\n",
            "  - Max Score: 2181.6\n"
          ],
          "name": "stdout"
        },
        {
          "output_type": "stream",
          "text": [
            "\r 91%|█████████ | 90/99 [35:07<03:47, 25.31s/it]"
          ],
          "name": "stderr"
        },
        {
          "output_type": "stream",
          "text": [
            "> 90 itrs completed after 2107.56 s\n",
            "  - Archive Size: 1\n",
            "  - Max Score: 2181.6\n"
          ],
          "name": "stdout"
        },
        {
          "output_type": "stream",
          "text": [
            "\r 92%|█████████▏| 91/99 [35:32<03:22, 25.33s/it]"
          ],
          "name": "stderr"
        },
        {
          "output_type": "stream",
          "text": [
            "> 91 itrs completed after 2132.93 s\n",
            "  - Archive Size: 1\n",
            "  - Max Score: 2181.6\n"
          ],
          "name": "stdout"
        },
        {
          "output_type": "stream",
          "text": [
            "\r 93%|█████████▎| 92/99 [35:57<02:56, 25.16s/it]"
          ],
          "name": "stderr"
        },
        {
          "output_type": "stream",
          "text": [
            "> 92 itrs completed after 2157.70 s\n",
            "  - Archive Size: 1\n",
            "  - Max Score: 2181.6\n"
          ],
          "name": "stdout"
        },
        {
          "output_type": "stream",
          "text": [
            "\r 94%|█████████▍| 93/99 [36:22<02:30, 25.16s/it]"
          ],
          "name": "stderr"
        },
        {
          "output_type": "stream",
          "text": [
            "> 93 itrs completed after 2182.85 s\n",
            "  - Archive Size: 1\n",
            "  - Max Score: 2181.6\n"
          ],
          "name": "stdout"
        },
        {
          "output_type": "stream",
          "text": [
            "\r 95%|█████████▍| 94/99 [36:48<02:06, 25.27s/it]"
          ],
          "name": "stderr"
        },
        {
          "output_type": "stream",
          "text": [
            "> 94 itrs completed after 2208.39 s\n",
            "  - Archive Size: 1\n",
            "  - Max Score: 2181.6\n"
          ],
          "name": "stdout"
        },
        {
          "output_type": "stream",
          "text": [
            "\r 96%|█████████▌| 95/99 [37:12<01:39, 24.86s/it]"
          ],
          "name": "stderr"
        },
        {
          "output_type": "stream",
          "text": [
            "> 95 itrs completed after 2232.27 s\n",
            "  - Archive Size: 1\n",
            "  - Max Score: 2181.6\n"
          ],
          "name": "stdout"
        },
        {
          "output_type": "stream",
          "text": [
            "\r 97%|█████████▋| 96/99 [37:37<01:14, 24.94s/it]"
          ],
          "name": "stderr"
        },
        {
          "output_type": "stream",
          "text": [
            "> 96 itrs completed after 2257.41 s\n",
            "  - Archive Size: 1\n",
            "  - Max Score: 2241.6\n"
          ],
          "name": "stdout"
        },
        {
          "output_type": "stream",
          "text": [
            "\r 98%|█████████▊| 97/99 [38:02<00:49, 24.86s/it]"
          ],
          "name": "stderr"
        },
        {
          "output_type": "stream",
          "text": [
            "> 97 itrs completed after 2282.08 s\n",
            "  - Archive Size: 1\n",
            "  - Max Score: 2241.6\n"
          ],
          "name": "stdout"
        },
        {
          "output_type": "stream",
          "text": [
            "\r 99%|█████████▉| 98/99 [38:26<00:24, 24.60s/it]"
          ],
          "name": "stderr"
        },
        {
          "output_type": "stream",
          "text": [
            "> 98 itrs completed after 2306.08 s\n",
            "  - Archive Size: 1\n",
            "  - Max Score: 2241.6\n"
          ],
          "name": "stdout"
        },
        {
          "output_type": "stream",
          "text": [
            "100%|██████████| 99/99 [38:51<00:00, 23.55s/it]"
          ],
          "name": "stderr"
        },
        {
          "output_type": "stream",
          "text": [
            "> 99 itrs completed after 2331.46 s\n",
            "  - Archive Size: 1\n",
            "  - Max Score: 2241.6\n"
          ],
          "name": "stdout"
        },
        {
          "output_type": "stream",
          "text": [
            "\n"
          ],
          "name": "stderr"
        }
      ]
    },
    {
      "cell_type": "code",
      "metadata": {
        "id": "gdFhEnFCT6Yq",
        "colab": {
          "base_uri": "https://localhost:8080/"
        },
        "outputId": "1b563e7c-22d0-431f-e723-617bec8ea932"
      },
      "source": [
        "# Render the evolved elite agent\n",
        "df = archive.as_pandas()\n",
        "high_performing = df.sort_values(\"objective\")\n",
        "#display(high_performing)\n",
        "models = np.array(high_performing.loc[:, \"solution_0\":])\n",
        "model_w = models[0]\n",
        "set_weights(conv_net, model_w)\n",
        "conv_net.reset()\n",
        "agents = [conv_net, greedy_agent]\n",
        "env.run(agents)\n",
        "print(agents)\n",
        "print(env.state)\n",
        "env.render(mode=\"ipython\", width=500, height=450)"
      ],
      "execution_count": null,
      "outputs": [
        {
          "output_type": "stream",
          "text": [
            "[ConvNet(\n",
            "  (c1): Conv2d(12, 10, kernel_size=(3, 3), stride=(1, 1), padding=(2, 0))\n",
            "  (c2): Conv2d(10, 5, kernel_size=(3, 3), stride=(2, 2))\n",
            "  (c3): Conv2d(5, 10, kernel_size=(3, 3), stride=(1, 1))\n",
            "  (l1): Linear(in_features=40, out_features=4, bias=True)\n",
            "  (flatten): Flatten(start_dim=1, end_dim=-1)\n",
            "), <function greedy_agent at 0x7fa3a428f170>]\n",
            "[{'action': 'NORTH', 'reward': 201, 'info': {}, 'observation': {'remainingOverageTime': 60, 'step': 2, 'geese': [[], [51]], 'food': [54, 58], 'index': 0}, 'status': 'DONE'}, {'action': 'NORTH', 'reward': 301, 'info': {}, 'observation': {'remainingOverageTime': 60, 'index': 1}, 'status': 'DONE'}]\n"
          ],
          "name": "stdout"
        }
      ]
    },
    {
      "cell_type": "code",
      "metadata": {
        "id": "Uaftz82EhTQX"
      },
      "source": [
        "env = make(\"hungry_geese\", debug=True) # Set debug to False if you don't want the printed statements (or just remove the prints in the agent)\n",
        "env.run(agents)\n",
        "env.render(mode=\"ipython\", width=500, height=450)\n"
      ],
      "execution_count": null,
      "outputs": []
    },
    {
      "cell_type": "code",
      "metadata": {
        "id": "p_0rK4qgg5w_"
      },
      "source": [
        "nOfTrial =1000;\n",
        "env = make(\"hungry_geese\", debug=False) # Set debug to False if you don't want the printed statements (or just remove the prints in the agent)\n",
        "\n",
        "greedyR = np.zeros(nOfTrial)\n",
        "convR = np.zeros(nOfTrial)\n",
        "\n",
        "for i in tqdm(range(nOfTrial)):\n",
        "  df = archive.as_pandas()\n",
        "  high_performing = df.sort_values(\"objective\")\n",
        "  #display(high_performing)\n",
        "  models = np.array(high_performing.loc[:, \"solution_0\":])\n",
        "  model_w = models[0]\n",
        "  set_weights(conv_net, model_w)\n",
        "  conv_net.reset()\n",
        "  agents = [conv_net, greedy_agent]\n",
        "  steps = env.run(agents)\n",
        "  convR[i] = steps[-1][0]['reward']\n",
        "  greedyR[i] = steps[-1][1]['reward']"
      ],
      "execution_count": null,
      "outputs": []
    },
    {
      "cell_type": "code",
      "metadata": {
        "colab": {
          "base_uri": "https://localhost:8080/",
          "height": 610
        },
        "id": "tNFA-Vh8h4r4",
        "outputId": "46e0c5a4-6443-46c6-ba53-626055b3774c"
      },
      "source": [
        "import matplotlib.pyplot as plt\n",
        "fig = plt.figure(figsize=(20,10))\n",
        "plt.plot(greedyR)\n",
        "plt.plot(convR)"
      ],
      "execution_count": null,
      "outputs": [
        {
          "output_type": "execute_result",
          "data": {
            "text/plain": [
              "[<matplotlib.lines.Line2D at 0x7fa3853bcf50>]"
            ]
          },
          "metadata": {
            "tags": []
          },
          "execution_count": 21
        },
        {
          "output_type": "display_data",
          "data": {
            "image/png": "[encoded data removed]",
            "text/plain": [
              "<Figure size 1440x720 with 1 Axes>"
            ]
          },
          "metadata": {
            "tags": [],
            "needs_background": "light"
          }
        }
      ]
    },
    {
      "cell_type": "code",
      "metadata": {
        "colab": {
          "base_uri": "https://localhost:8080/",
          "height": 367
        },
        "id": "hfKzkEiJinQf",
        "outputId": "5a431a67-3aad-467d-f188-07307422c059"
      },
      "source": [
        "heu = np.convolve(greedyR,np.ones(100,dtype=int),'valid')/100\n",
        "conv = np.convolve(convR,np.ones(100,dtype=int),'valid')/100\n",
        "\n",
        "\n",
        "fig = plt.figure(figsize=(15,5))\n",
        "plt.plot(heu)\n",
        "plt.plot(conv)\n",
        "plt.title('Moving Averages of the reward function of window size 100')\n",
        "plt.legend(['Heuristic', 'Evalutionary'])\n",
        "plt.ylabel('Reward')\n",
        "plt.xlabel('Moving Window Number')"
      ],
      "execution_count": null,
      "outputs": [
        {
          "output_type": "execute_result",
          "data": {
            "text/plain": [
              "Text(0.5, 0, 'Moving Window Number')"
            ]
          },
          "metadata": {
            "tags": []
          },
          "execution_count": 22
        },
        {
          "output_type": "display_data",
          "data": {
            "image/png": "[encoded data removed]",
            "text/plain": [
              "<Figure size 1080x360 with 1 Axes>"
            ]
          },
          "metadata": {
            "tags": [],
            "needs_background": "light"
          }
        }
      ]
    },
    {
      "cell_type": "markdown",
      "metadata": {
        "id": "HhtFJhlK5tDT"
      },
      "source": [
        ""
      ]
    },
    {
      "cell_type": "code",
      "metadata": {
        "colab": {
          "base_uri": "https://localhost:8080/",
          "height": 296
        },
        "id": "8NDCDwaIjUm3",
        "outputId": "44cf0af8-faba-4a45-d4a9-704d85ba479d"
      },
      "source": [
        "means = [np.mean(greedyR), np.mean(convR)]\n",
        "stds =  [np.std(greedyR), np.std(convR)]\n",
        "agents = ['Heuristic', 'Evalutionary']\n",
        "x_pos = np.arange(len(agents))\n",
        "\n",
        "\n",
        "\n",
        "# Build the plot\n",
        "fig, ax = plt.subplots()\n",
        "ax.bar(x_pos, means, yerr=stds, align='center', alpha=0.5, ecolor='black', capsize=10)\n",
        "ax.set_ylabel('Reward')\n",
        "ax.set_xticks(x_pos)\n",
        "ax.set_xticklabels(agents)\n",
        "ax.set_title('Agent Comparison')\n",
        "ax.yaxis.grid(True)\n",
        "\n",
        "# Save the figure and show\n",
        "plt.tight_layout()\n",
        "plt.savefig('mean-std')\n",
        "plt.show()"
      ],
      "execution_count": null,
      "outputs": [
        {
          "output_type": "display_data",
          "data": {
            "image/png": "[encoded data removed]",
            "text/plain": [
              "<Figure size 432x288 with 1 Axes>"
            ]
          },
          "metadata": {
            "tags": [],
            "needs_background": "light"
          }
        }
      ]
    },
    {
      "cell_type": "markdown",
      "metadata": {
        "id": "WX_5Hr02bGxo"
      },
      "source": [
        "For more info on the information provided in the jsons, see [this](https://github.com/Kaggle/kaggle-environments/blob/master/kaggle_environments/envs/hungry_geese/hungry_geese.json) json;\n",
        "\n",
        "Let's put that into a single python file and submit to Kaggle;\n",
        "\n",
        "First we'll get the name of the notebook into a python variable:"
      ]
    },
    {
      "cell_type": "code",
      "metadata": {
        "id": "NjVzx31MbGxo"
      },
      "source": [
        "%%javascript\n",
        "IPython.notebook.kernel.execute('nb_name = \"' + IPython.notebook.notebook_name + '\"')"
      ],
      "execution_count": null,
      "outputs": []
    },
    {
      "cell_type": "code",
      "metadata": {
        "id": "5Rv5cQ2CbGxp"
      },
      "source": [
        "py_name = nb_name[:-6] + \".py\"  # swap out .ipynb for .py\n",
        "print(py_name)"
      ],
      "execution_count": null,
      "outputs": []
    },
    {
      "cell_type": "code",
      "metadata": {
        "id": "SxDzeRP1bGxq"
      },
      "source": [
        "%%writefile $py_name\n",
        "\n",
        "from kaggle_environments.envs.hungry_geese.hungry_geese import Observation, Configuration, Action, row_col\n",
        "from kaggle_environments import evaluate, make, utils\n",
        "import numpy as np\n",
        "actions = np.array([\"EAST\", \"SOUTH\", \"NORTH\", \"WEST\"])\n",
        "opp_actions = {'EAST': 'WEST', 'WEST': 'EAST', 'NORTH':'SOUTH', 'SOUTH':'NORTH'}\n",
        "\n",
        "# Creates a class for an agent so we can keep track of the last action\n",
        "class RandomAgent:\n",
        "    def __init__(self, configuration: Configuration):\n",
        "        self.configuration = configuration\n",
        "        self.last_action = None\n",
        "\n",
        "    def __call__(self, observation: Observation):\n",
        "        action = np.random.choice(actions) \n",
        "        while action == opp_actions.get(self.last_action, \"\"):\n",
        "            action = np.random.choice(actions)\n",
        "        self.last_action = action\n",
        "        return action\n",
        "\n",
        "cached_agents = {}\n",
        "def agent(obs, config):\n",
        "    index = obs[\"index\"]\n",
        "    if index not in cached_agents :\n",
        "        cached_agents[index] = RandomAgent(Configuration(config))\n",
        "    return cached_agents[index](Observation(obs))"
      ],
      "execution_count": null,
      "outputs": []
    },
    {
      "cell_type": "code",
      "metadata": {
        "id": "cwZWudMHbGxq"
      },
      "source": [
        "# Test the agent file\n",
        "env.run([\"1.0-bgc-Tutorial.py\", \"1.0-bgc-Tutorial.py\"])\n",
        "env.render(mode=\"ipython\", width=500, height=450)"
      ],
      "execution_count": null,
      "outputs": []
    },
    {
      "cell_type": "markdown",
      "metadata": {
        "id": "d7kM6xRSbGxq"
      },
      "source": [
        "That's it, just submit the py file on Kaggle! Your agent will start with 600 as it's ranking and slowly gain/lose depending on how it does."
      ]
    },
    {
      "cell_type": "markdown",
      "metadata": {
        "id": "9o1PK-epbGxq"
      },
      "source": [
        "![image.png](1.0-bgc-Tutorial.png)"
      ]
    },
    {
      "cell_type": "code",
      "metadata": {
        "id": "KDZWqNNqbGxr"
      },
      "source": [
        ""
      ],
      "execution_count": null,
      "outputs": []
    }
  ]
}